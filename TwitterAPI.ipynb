{
  "nbformat": 4,
  "nbformat_minor": 0,
  "metadata": {
    "colab": {
      "provenance": [],
      "collapsed_sections": [
        "vykZWRY2Xaip",
        "scz6TyEDpndc",
        "VHD_NGLIs2UJ"
      ],
      "machine_shape": "hm",
      "include_colab_link": true
    },
    "kernelspec": {
      "display_name": "Python 3",
      "name": "python3"
    }
  },
  "cells": [
    {
      "cell_type": "markdown",
      "metadata": {
        "id": "view-in-github",
        "colab_type": "text"
      },
      "source": [
        "<a href=\"https://colab.research.google.com/github/karasu1982/TwitterAPI/blob/main/TwitterAPI.ipynb\" target=\"_parent\"><img src=\"https://colab.research.google.com/assets/colab-badge.svg\" alt=\"Open In Colab\"/></a>"
      ]
    },
    {
      "cell_type": "markdown",
      "source": [
        "# 環境設定"
      ],
      "metadata": {
        "id": "Lyy92Y2TuCZs"
      }
    },
    {
      "cell_type": "code",
      "source": [
        "!pip install tweepy==4.0.0"
      ],
      "metadata": {
        "colab": {
          "base_uri": "https://localhost:8080/"
        },
        "id": "J142h3mNqSdn",
        "outputId": "ebc15fbb-e1b0-40f9-8d24-0d08f484badb"
      },
      "execution_count": null,
      "outputs": [
        {
          "output_type": "stream",
          "name": "stdout",
          "text": [
            "Requirement already satisfied: tweepy==4.0.0 in /usr/local/lib/python3.7/dist-packages (4.0.0)\n",
            "Requirement already satisfied: requests<3,>=2.11.1 in /usr/local/lib/python3.7/dist-packages (from tweepy==4.0.0) (2.23.0)\n",
            "Requirement already satisfied: requests-oauthlib<2,>=1.0.0 in /usr/local/lib/python3.7/dist-packages (from tweepy==4.0.0) (1.3.1)\n",
            "Requirement already satisfied: chardet<4,>=3.0.2 in /usr/local/lib/python3.7/dist-packages (from requests<3,>=2.11.1->tweepy==4.0.0) (3.0.4)\n",
            "Requirement already satisfied: certifi>=2017.4.17 in /usr/local/lib/python3.7/dist-packages (from requests<3,>=2.11.1->tweepy==4.0.0) (2021.10.8)\n",
            "Requirement already satisfied: urllib3!=1.25.0,!=1.25.1,<1.26,>=1.21.1 in /usr/local/lib/python3.7/dist-packages (from requests<3,>=2.11.1->tweepy==4.0.0) (1.24.3)\n",
            "Requirement already satisfied: idna<3,>=2.5 in /usr/local/lib/python3.7/dist-packages (from requests<3,>=2.11.1->tweepy==4.0.0) (2.10)\n",
            "Requirement already satisfied: oauthlib>=3.0.0 in /usr/local/lib/python3.7/dist-packages (from requests-oauthlib<2,>=1.0.0->tweepy==4.0.0) (3.2.0)\n"
          ]
        }
      ]
    },
    {
      "cell_type": "code",
      "source": [
        "!pip install emoji"
      ],
      "metadata": {
        "colab": {
          "base_uri": "https://localhost:8080/"
        },
        "id": "NpEmX85Rtjb2",
        "outputId": "fed2c90f-b916-4df6-f6cc-57d81491c92c"
      },
      "execution_count": null,
      "outputs": [
        {
          "output_type": "stream",
          "name": "stdout",
          "text": [
            "Collecting emoji\n",
            "  Downloading emoji-1.6.3.tar.gz (174 kB)\n",
            "\u001b[?25l\r\u001b[K     |█▉                              | 10 kB 23.8 MB/s eta 0:00:01\r\u001b[K     |███▊                            | 20 kB 28.4 MB/s eta 0:00:01\r\u001b[K     |█████▋                          | 30 kB 32.4 MB/s eta 0:00:01\r\u001b[K     |███████▌                        | 40 kB 20.9 MB/s eta 0:00:01\r\u001b[K     |█████████▍                      | 51 kB 16.1 MB/s eta 0:00:01\r\u001b[K     |███████████▎                    | 61 kB 15.6 MB/s eta 0:00:01\r\u001b[K     |█████████████▏                  | 71 kB 12.9 MB/s eta 0:00:01\r\u001b[K     |███████████████                 | 81 kB 14.0 MB/s eta 0:00:01\r\u001b[K     |█████████████████               | 92 kB 15.2 MB/s eta 0:00:01\r\u001b[K     |██████████████████▉             | 102 kB 14.7 MB/s eta 0:00:01\r\u001b[K     |████████████████████▊           | 112 kB 14.7 MB/s eta 0:00:01\r\u001b[K     |██████████████████████▋         | 122 kB 14.7 MB/s eta 0:00:01\r\u001b[K     |████████████████████████▌       | 133 kB 14.7 MB/s eta 0:00:01\r\u001b[K     |██████████████████████████▍     | 143 kB 14.7 MB/s eta 0:00:01\r\u001b[K     |████████████████████████████▏   | 153 kB 14.7 MB/s eta 0:00:01\r\u001b[K     |██████████████████████████████  | 163 kB 14.7 MB/s eta 0:00:01\r\u001b[K     |████████████████████████████████| 174 kB 14.7 MB/s eta 0:00:01\r\u001b[K     |████████████████████████████████| 174 kB 14.7 MB/s \n",
            "\u001b[?25hBuilding wheels for collected packages: emoji\n",
            "  Building wheel for emoji (setup.py) ... \u001b[?25l\u001b[?25hdone\n",
            "  Created wheel for emoji: filename=emoji-1.6.3-py3-none-any.whl size=170298 sha256=8815ed5850c529cf17e9e4c98b71e8e7b3d75fc20c99a2d513bda1345100a28e\n",
            "  Stored in directory: /root/.cache/pip/wheels/03/8b/d7/ad579fbef83c287215c0caab60fb0ae0f30c4d7ce5f580eade\n",
            "Successfully built emoji\n",
            "Installing collected packages: emoji\n",
            "Successfully installed emoji-1.6.3\n"
          ]
        }
      ]
    },
    {
      "cell_type": "code",
      "source": [
        "# ライブラリのインポート\n",
        "import tweepy\n",
        "from datetime import datetime,timezone\n",
        "import pytz\n",
        "import pandas as pd\n",
        "\n",
        "import requests\n",
        "import re\n",
        "import emoji"
      ],
      "metadata": {
        "id": "Cue53S52ePM5"
      },
      "execution_count": null,
      "outputs": []
    },
    {
      "cell_type": "markdown",
      "source": [
        "# データ取得・加工\n"
      ],
      "metadata": {
        "id": "cVR8_caAucqo"
      }
    },
    {
      "cell_type": "markdown",
      "source": [
        "## Twitterデータ取得"
      ],
      "metadata": {
        "id": "-m6eg5C0t1P6"
      }
    },
    {
      "cell_type": "code",
      "source": [
        "# Twitter TOKEN\n",
        "BEARER_TOKEN = \"<Twitter APIキー>\"\n",
        "\n",
        "# Twitter APIのURL\n",
        "search_url = \"https://api.twitter.com/2/tweets/search/recent\""
      ],
      "metadata": {
        "id": "XR5gsVeIqyUy"
      },
      "execution_count": null,
      "outputs": []
    },
    {
      "cell_type": "code",
      "source": [
        "# 検索クエリ\n",
        "query_params = {'query': '保育士 -is:retweet', 'tweet.fields': 'author_id', 'max_results': 100}"
      ],
      "metadata": {
        "id": "CJPP5nj5sofV"
      },
      "execution_count": null,
      "outputs": []
    },
    {
      "cell_type": "code",
      "source": [
        "def create_headers(bearer_token):\n",
        "    headers = {\"Authorization\": \"Bearer {}\".format(bearer_token)}\n",
        "    return headers\n",
        "\n",
        "def connect_to_endpoint(url, headers, params):\n",
        "    has_next = True\n",
        "    c = 0\n",
        "    result = []\n",
        "    while has_next:\n",
        "        response = requests.request(\"GET\", search_url, headers=headers, params=params)\n",
        "        if response.status_code != 200:\n",
        "            raise Exception(response.status_code, response.text)\n",
        "\n",
        "        response_body = response.json()\n",
        "        result += response_body['data']\n",
        "\n",
        "        rate_limit = response.headers['x-rate-limit-remaining']\n",
        "        print('Rate limit remaining: ' + rate_limit)\n",
        "\n",
        "        c = c + 1\n",
        "        has_next = ('next_token' in response_body['meta'].keys() and c < 300)\n",
        "\n",
        "        # next_tokenがある場合は検索クエリに追加\n",
        "        if has_next:\n",
        "            query_params['next_token'] = response_body['meta']['next_token']\n",
        "\n",
        "    return result\n",
        "\n",
        "# Pandasのデータフレームを使ってデータを加工\n",
        "def create_data_frame(json_data):\n"
      ],
      "metadata": {
        "id": "tfsmLZ-Irv73"
      },
      "execution_count": null,
      "outputs": []
    },
    {
      "cell_type": "code",
      "source": [
        "headers = create_headers(BEARER_TOKEN)\n",
        "json_response = connect_to_endpoint(search_url, headers, query_params)"
      ],
      "metadata": {
        "id": "YeSegIlmsGMd"
      },
      "execution_count": null,
      "outputs": []
    },
    {
      "cell_type": "markdown",
      "source": [
        "## データ加工"
      ],
      "metadata": {
        "id": "m73Zu8MEuE_g"
      }
    },
    {
      "cell_type": "code",
      "source": [
        "import re\n",
        "\n",
        "def preprocess_word(doc):\n",
        "  # 数字を０に \n",
        "  # doc = re.sub(r'\\d+', '0', doc) \n",
        "\n",
        "  # メンション除去 \n",
        "  doc = re.sub(r\"@(\\w+) \", \"\", doc) \n",
        "\n",
        "  # url除去 \n",
        "  doc = re.sub(r\"http\\S+\", \"\", doc)\n",
        "\n",
        "  #リツイートを消す\n",
        "  doc = re.sub(r\"(^RT.*)\", \"\", doc, flags=re.MULTILINE | re.DOTALL)\n",
        "\n",
        "  # 大文字・小文字変換 \n",
        "  doc = doc.lower() \n",
        "\n",
        "  #絵文字を消す\n",
        "  emoji_pattern = re.compile(\"[\"\n",
        "  u\"\\U0001F600-\\U0001F64F\"\n",
        "  u\"\\U0001F300-\\U0001F5FF\"\n",
        "  u\"\\U0001F680-\\U0001F6FF\"\n",
        "  u\"\\U0001F1E0-\\U0001F1FF\"\n",
        "  \"]+\", flags=re.UNICODE)\n",
        "  doc = emoji_pattern.sub(\"\", doc)\n",
        "\n",
        "  # 不要記号削除\n",
        "  pattern = '[!\"#$%&\\'\\\\\\\\()*+,-./:;<=>?@[\\\\]^_`{|}~「」〔〕“”◇ᴗ●↓→♪★⊂⊃※△□◎〈〉『』【】＆＊・（）＄＃＠。、？！｀＋￥％]' \n",
        "  doc = re.sub(pattern, ' ', doc) \n",
        "\n",
        "  # 多すぎるワードは除く\n",
        "  doc = doc.replace(\"保育士\",\"\")\n",
        "\n",
        "  return doc"
      ],
      "metadata": {
        "id": "7UU7PFBJDkpT"
      },
      "execution_count": null,
      "outputs": []
    },
    {
      "cell_type": "code",
      "source": [
        "df = pd.DataFrame(json_response)\n",
        "\n",
        "df[\"text\"] = df[\"text\"].apply(preprocess_word)"
      ],
      "metadata": {
        "id": "_ZGNxzrjFae-"
      },
      "execution_count": null,
      "outputs": []
    },
    {
      "cell_type": "markdown",
      "source": [
        "## Googleドライブに保存"
      ],
      "metadata": {
        "id": "M1zMTrk10A4v"
      }
    },
    {
      "cell_type": "code",
      "source": [
        "from google.colab import drive\n",
        "drive.mount('/content/gdrive')"
      ],
      "metadata": {
        "colab": {
          "base_uri": "https://localhost:8080/"
        },
        "id": "KlWGt0ZfzzC5",
        "outputId": "b843ba3e-9fbf-4b88-a22a-e0afb2c2169d"
      },
      "execution_count": null,
      "outputs": [
        {
          "output_type": "stream",
          "name": "stdout",
          "text": [
            "Mounted at /content/gdrive\n"
          ]
        }
      ]
    },
    {
      "cell_type": "code",
      "source": [
        "tmp_path = \"/content/gdrive/MyDrive/Colab Notebooks/tmp/\""
      ],
      "metadata": {
        "id": "dV-AI0Td0KQL"
      },
      "execution_count": null,
      "outputs": []
    },
    {
      "cell_type": "code",
      "source": [
        "df.to_csv(tmp_path+\"twitter_text.csv\")"
      ],
      "metadata": {
        "id": "tjC4YZiXzs4Y"
      },
      "execution_count": null,
      "outputs": []
    },
    {
      "cell_type": "code",
      "source": [
        "import pandas as pd\n",
        "df = pd.read_csv(tmp_path+\"twitter_text.csv\")"
      ],
      "metadata": {
        "id": "dZv9MY4d0qOS"
      },
      "execution_count": null,
      "outputs": []
    },
    {
      "cell_type": "code",
      "source": [
        "df[\"text\"] = df[\"text\"].apply(preprocess_word)"
      ],
      "metadata": {
        "id": "lya_-rK4FivM"
      },
      "execution_count": null,
      "outputs": []
    },
    {
      "cell_type": "code",
      "source": [
        "df.head()"
      ],
      "metadata": {
        "colab": {
          "base_uri": "https://localhost:8080/",
          "height": 206
        },
        "id": "lFnbuyCkrij6",
        "outputId": "97cb8404-360e-4674-bafe-932d7f151628"
      },
      "execution_count": null,
      "outputs": [
        {
          "output_type": "execute_result",
          "data": {
            "text/html": [
              "\n",
              "  <div id=\"df-fef715d2-52ef-469e-90a4-6aa9237da4fc\">\n",
              "    <div class=\"colab-df-container\">\n",
              "      <div>\n",
              "<style scoped>\n",
              "    .dataframe tbody tr th:only-of-type {\n",
              "        vertical-align: middle;\n",
              "    }\n",
              "\n",
              "    .dataframe tbody tr th {\n",
              "        vertical-align: top;\n",
              "    }\n",
              "\n",
              "    .dataframe thead th {\n",
              "        text-align: right;\n",
              "    }\n",
              "</style>\n",
              "<table border=\"1\" class=\"dataframe\">\n",
              "  <thead>\n",
              "    <tr style=\"text-align: right;\">\n",
              "      <th></th>\n",
              "      <th>Unnamed: 0</th>\n",
              "      <th>author_id</th>\n",
              "      <th>id</th>\n",
              "      <th>text</th>\n",
              "      <th>emotion</th>\n",
              "    </tr>\n",
              "  </thead>\n",
              "  <tbody>\n",
              "    <tr>\n",
              "      <th>0</th>\n",
              "      <td>0</td>\n",
              "      <td>1090606035658625024</td>\n",
              "      <td>1490209147811659777</td>\n",
              "      <td>通りすがりのです色々な先輩と働いたのち 最近は子どもが保育園に来ているだけで褒めてあげたいと...</td>\n",
              "      <td>mostly_POSITIVE</td>\n",
              "    </tr>\n",
              "    <tr>\n",
              "      <th>1</th>\n",
              "      <td>1</td>\n",
              "      <td>1438337387550035969</td>\n",
              "      <td>1490209022674616322</td>\n",
              "      <td>世のさん腱鞘炎と戦いつつもがんばって仕事してるのえらいな…勤めてる最中になるぶんには大丈夫そ...</td>\n",
              "      <td>NEGATIVE</td>\n",
              "    </tr>\n",
              "    <tr>\n",
              "      <th>2</th>\n",
              "      <td>2</td>\n",
              "      <td>1373419650650759173</td>\n",
              "      <td>1490209005691899905</td>\n",
              "      <td>前向きに二人での海外旅行を企画したくても出来ない こんな窮屈な世の中早く終わってくれ  欲を...</td>\n",
              "      <td>NEUTRAL</td>\n",
              "    </tr>\n",
              "    <tr>\n",
              "      <th>3</th>\n",
              "      <td>3</td>\n",
              "      <td>100352197</td>\n",
              "      <td>1490208785796775942</td>\n",
              "      <td>だけど義務化では無いので肯定的です 推奨する分にはいいかな と現場の匙加減でどうにでも出来ますし</td>\n",
              "      <td>None</td>\n",
              "    </tr>\n",
              "    <tr>\n",
              "      <th>4</th>\n",
              "      <td>4</td>\n",
              "      <td>1260540744390938624</td>\n",
              "      <td>1490208653642964992</td>\n",
              "      <td>同じ嬉しい \\nよろしくお願いします🤲</td>\n",
              "      <td>POSITIVE</td>\n",
              "    </tr>\n",
              "  </tbody>\n",
              "</table>\n",
              "</div>\n",
              "      <button class=\"colab-df-convert\" onclick=\"convertToInteractive('df-fef715d2-52ef-469e-90a4-6aa9237da4fc')\"\n",
              "              title=\"Convert this dataframe to an interactive table.\"\n",
              "              style=\"display:none;\">\n",
              "        \n",
              "  <svg xmlns=\"http://www.w3.org/2000/svg\" height=\"24px\"viewBox=\"0 0 24 24\"\n",
              "       width=\"24px\">\n",
              "    <path d=\"M0 0h24v24H0V0z\" fill=\"none\"/>\n",
              "    <path d=\"M18.56 5.44l.94 2.06.94-2.06 2.06-.94-2.06-.94-.94-2.06-.94 2.06-2.06.94zm-11 1L8.5 8.5l.94-2.06 2.06-.94-2.06-.94L8.5 2.5l-.94 2.06-2.06.94zm10 10l.94 2.06.94-2.06 2.06-.94-2.06-.94-.94-2.06-.94 2.06-2.06.94z\"/><path d=\"M17.41 7.96l-1.37-1.37c-.4-.4-.92-.59-1.43-.59-.52 0-1.04.2-1.43.59L10.3 9.45l-7.72 7.72c-.78.78-.78 2.05 0 2.83L4 21.41c.39.39.9.59 1.41.59.51 0 1.02-.2 1.41-.59l7.78-7.78 2.81-2.81c.8-.78.8-2.07 0-2.86zM5.41 20L4 18.59l7.72-7.72 1.47 1.35L5.41 20z\"/>\n",
              "  </svg>\n",
              "      </button>\n",
              "      \n",
              "  <style>\n",
              "    .colab-df-container {\n",
              "      display:flex;\n",
              "      flex-wrap:wrap;\n",
              "      gap: 12px;\n",
              "    }\n",
              "\n",
              "    .colab-df-convert {\n",
              "      background-color: #E8F0FE;\n",
              "      border: none;\n",
              "      border-radius: 50%;\n",
              "      cursor: pointer;\n",
              "      display: none;\n",
              "      fill: #1967D2;\n",
              "      height: 32px;\n",
              "      padding: 0 0 0 0;\n",
              "      width: 32px;\n",
              "    }\n",
              "\n",
              "    .colab-df-convert:hover {\n",
              "      background-color: #E2EBFA;\n",
              "      box-shadow: 0px 1px 2px rgba(60, 64, 67, 0.3), 0px 1px 3px 1px rgba(60, 64, 67, 0.15);\n",
              "      fill: #174EA6;\n",
              "    }\n",
              "\n",
              "    [theme=dark] .colab-df-convert {\n",
              "      background-color: #3B4455;\n",
              "      fill: #D2E3FC;\n",
              "    }\n",
              "\n",
              "    [theme=dark] .colab-df-convert:hover {\n",
              "      background-color: #434B5C;\n",
              "      box-shadow: 0px 1px 3px 1px rgba(0, 0, 0, 0.15);\n",
              "      filter: drop-shadow(0px 1px 2px rgba(0, 0, 0, 0.3));\n",
              "      fill: #FFFFFF;\n",
              "    }\n",
              "  </style>\n",
              "\n",
              "      <script>\n",
              "        const buttonEl =\n",
              "          document.querySelector('#df-fef715d2-52ef-469e-90a4-6aa9237da4fc button.colab-df-convert');\n",
              "        buttonEl.style.display =\n",
              "          google.colab.kernel.accessAllowed ? 'block' : 'none';\n",
              "\n",
              "        async function convertToInteractive(key) {\n",
              "          const element = document.querySelector('#df-fef715d2-52ef-469e-90a4-6aa9237da4fc');\n",
              "          const dataTable =\n",
              "            await google.colab.kernel.invokeFunction('convertToInteractive',\n",
              "                                                     [key], {});\n",
              "          if (!dataTable) return;\n",
              "\n",
              "          const docLinkHtml = 'Like what you see? Visit the ' +\n",
              "            '<a target=\"_blank\" href=https://colab.research.google.com/notebooks/data_table.ipynb>data table notebook</a>'\n",
              "            + ' to learn more about interactive tables.';\n",
              "          element.innerHTML = '';\n",
              "          dataTable['output_type'] = 'display_data';\n",
              "          await google.colab.output.renderOutput(dataTable, element);\n",
              "          const docLink = document.createElement('div');\n",
              "          docLink.innerHTML = docLinkHtml;\n",
              "          element.appendChild(docLink);\n",
              "        }\n",
              "      </script>\n",
              "    </div>\n",
              "  </div>\n",
              "  "
            ],
            "text/plain": [
              "   Unnamed: 0  ...          emotion\n",
              "0           0  ...  mostly_POSITIVE\n",
              "1           1  ...         NEGATIVE\n",
              "2           2  ...          NEUTRAL\n",
              "3           3  ...             None\n",
              "4           4  ...         POSITIVE\n",
              "\n",
              "[5 rows x 5 columns]"
            ]
          },
          "metadata": {},
          "execution_count": 108
        }
      ]
    },
    {
      "cell_type": "markdown",
      "source": [
        "# データ分析"
      ],
      "metadata": {
        "id": "uhskMv1YuNDq"
      }
    },
    {
      "cell_type": "markdown",
      "source": [
        "## 環境設定\n",
        "\n",
        "Mecabおよび日本語フォントのインストール"
      ],
      "metadata": {
        "id": "pkaZ4ThHOXZF"
      }
    },
    {
      "cell_type": "code",
      "source": [
        "!apt install aptitude\n",
        "!aptitude install mecab libmecab-dev mecab-ipadic-utf8 git make curl xz-utils file -y\n",
        "!pip install mecab-python3==0.7"
      ],
      "metadata": {
        "colab": {
          "base_uri": "https://localhost:8080/"
        },
        "id": "S8M0lV1OKTOs",
        "outputId": "d8d1286d-c866-4866-89c1-031fd4e5bf2c"
      },
      "execution_count": null,
      "outputs": [
        {
          "output_type": "stream",
          "name": "stdout",
          "text": [
            "Reading package lists... Done\n",
            "Building dependency tree       \n",
            "Reading state information... Done\n",
            "aptitude is already the newest version (0.8.10-6ubuntu1).\n",
            "0 upgraded, 0 newly installed, 0 to remove and 39 not upgraded.\n",
            "mecab is already installed at the requested version (0.996-5)\n",
            "libmecab-dev is already installed at the requested version (0.996-5)\n",
            "mecab-ipadic-utf8 is already installed at the requested version (2.7.0-20070801+main-1)\n",
            "git is already installed at the requested version (1:2.17.1-1ubuntu0.9)\n",
            "make is already installed at the requested version (4.1-9.1ubuntu1)\n",
            "curl is already installed at the requested version (7.58.0-2ubuntu3.16)\n",
            "xz-utils is already installed at the requested version (5.2.2-1.3)\n",
            "file is already installed at the requested version (1:5.32-2ubuntu0.4)\n",
            "mecab is already installed at the requested version (0.996-5)\n",
            "libmecab-dev is already installed at the requested version (0.996-5)\n",
            "mecab-ipadic-utf8 is already installed at the requested version (2.7.0-20070801+main-1)\n",
            "git is already installed at the requested version (1:2.17.1-1ubuntu0.9)\n",
            "make is already installed at the requested version (4.1-9.1ubuntu1)\n",
            "curl is already installed at the requested version (7.58.0-2ubuntu3.16)\n",
            "xz-utils is already installed at the requested version (5.2.2-1.3)\n",
            "file is already installed at the requested version (1:5.32-2ubuntu0.4)\n",
            "No packages will be installed, upgraded, or removed.\n",
            "0 packages upgraded, 0 newly installed, 0 to remove and 39 not upgraded.\n",
            "Need to get 0 B of archives. After unpacking 0 B will be used.\n",
            "                            \n",
            "Requirement already satisfied: mecab-python3==0.7 in /usr/local/lib/python3.7/dist-packages (0.7)\n"
          ]
        }
      ]
    },
    {
      "cell_type": "code",
      "source": [
        "!apt -y install fonts-ipafont-gothic"
      ],
      "metadata": {
        "colab": {
          "base_uri": "https://localhost:8080/"
        },
        "id": "Xs_mGmEvOQ1H",
        "outputId": "88a095d4-a3be-4bd4-f0ee-b1f665edcf81"
      },
      "execution_count": null,
      "outputs": [
        {
          "output_type": "stream",
          "name": "stdout",
          "text": [
            "Reading package lists... Done\n",
            "Building dependency tree       \n",
            "Reading state information... Done\n",
            "fonts-ipafont-gothic is already the newest version (00303-18ubuntu1).\n",
            "0 upgraded, 0 newly installed, 0 to remove and 39 not upgraded.\n"
          ]
        }
      ]
    },
    {
      "cell_type": "code",
      "source": [
        "!pip install pymlask"
      ],
      "metadata": {
        "colab": {
          "base_uri": "https://localhost:8080/"
        },
        "id": "hFm6FBsTKTD6",
        "outputId": "f5ce244f-342a-4c30-de61-4f2de42d414e"
      },
      "execution_count": null,
      "outputs": [
        {
          "output_type": "stream",
          "name": "stdout",
          "text": [
            "Requirement already satisfied: pymlask in /usr/local/lib/python3.7/dist-packages (0.3.2)\n"
          ]
        }
      ]
    },
    {
      "cell_type": "markdown",
      "source": [
        "## 感情分析\n",
        "\n",
        "ML-Askを利用<br>\n",
        "https://qiita.com/konitech913/items/317b452cc6c63894fce3"
      ],
      "metadata": {
        "id": "8YuzZOnLJWht"
      }
    },
    {
      "cell_type": "markdown",
      "source": [
        "### ML-Ask実行"
      ],
      "metadata": {
        "id": "RX0_zTAAOcLo"
      }
    },
    {
      "cell_type": "code",
      "source": [
        "from mlask import MLAsk\n",
        "emotion_analyzer = MLAsk()\n",
        "emotion_analyzer.analyze('彼のことは嫌い')"
      ],
      "metadata": {
        "colab": {
          "base_uri": "https://localhost:8080/"
        },
        "id": "tTBPcZeJKphR",
        "outputId": "f80de352-99e5-413b-93d5-e40e35dd1868"
      },
      "execution_count": null,
      "outputs": [
        {
          "output_type": "execute_result",
          "data": {
            "text/plain": [
              "{'activation': 'NEUTRAL',\n",
              " 'emoticon': None,\n",
              " 'emotion': defaultdict(list, {'iya': ['嫌う']}),\n",
              " 'intensifier': {},\n",
              " 'intension': 0,\n",
              " 'orientation': 'NEGATIVE',\n",
              " 'representative': ('iya', ['嫌う']),\n",
              " 'text': '彼のことは嫌い'}"
            ]
          },
          "metadata": {},
          "execution_count": 112
        }
      ]
    },
    {
      "cell_type": "code",
      "source": [
        "orientation_list = []\n",
        "\n",
        "for i, d in df.iterrows():\n",
        "  e = emotion_analyzer.analyze(d.text)\n",
        "\n",
        "  if e[\"emotion\"] is None:\n",
        "    _e = None\n",
        "  else:\n",
        "    _e = e[\"orientation\"]\n",
        "  orientation_list.append(_e)\n",
        "\n",
        "df[\"emotion\"] = orientation_list"
      ],
      "metadata": {
        "id": "RHiSV6ecMWwb"
      },
      "execution_count": null,
      "outputs": []
    },
    {
      "cell_type": "code",
      "source": [
        "df[\"emotion\"].value_counts()"
      ],
      "metadata": {
        "colab": {
          "base_uri": "https://localhost:8080/"
        },
        "id": "YhUOp4lQQzST",
        "outputId": "b479859a-f010-4b46-8757-7d37da46ce9f"
      },
      "execution_count": null,
      "outputs": [
        {
          "output_type": "execute_result",
          "data": {
            "text/plain": [
              "NEGATIVE           3335\n",
              "POSITIVE           3139\n",
              "NEUTRAL             900\n",
              "mostly_NEGATIVE     497\n",
              "mostly_POSITIVE     328\n",
              "Name: emotion, dtype: int64"
            ]
          },
          "metadata": {},
          "execution_count": 114
        }
      ]
    },
    {
      "cell_type": "code",
      "source": [
        "df_positive = df[df[\"emotion\"] == \"POSITIVE\"]\n",
        "df_negative = df[df[\"emotion\"] == \"NEGATIVE\"]"
      ],
      "metadata": {
        "id": "QJjlyHPfJUod"
      },
      "execution_count": null,
      "outputs": []
    },
    {
      "cell_type": "code",
      "source": [
        "df[df[\"emotion\"] == \"POSITIVE\"]"
      ],
      "metadata": {
        "colab": {
          "base_uri": "https://localhost:8080/",
          "height": 423
        },
        "id": "BkMMqpy_QqD-",
        "outputId": "4972c519-1ba0-4f93-dc33-2b5f2da708de"
      },
      "execution_count": null,
      "outputs": [
        {
          "output_type": "execute_result",
          "data": {
            "text/html": [
              "\n",
              "  <div id=\"df-97c3f5da-bae7-4d71-8ec3-77cedd38c0ef\">\n",
              "    <div class=\"colab-df-container\">\n",
              "      <div>\n",
              "<style scoped>\n",
              "    .dataframe tbody tr th:only-of-type {\n",
              "        vertical-align: middle;\n",
              "    }\n",
              "\n",
              "    .dataframe tbody tr th {\n",
              "        vertical-align: top;\n",
              "    }\n",
              "\n",
              "    .dataframe thead th {\n",
              "        text-align: right;\n",
              "    }\n",
              "</style>\n",
              "<table border=\"1\" class=\"dataframe\">\n",
              "  <thead>\n",
              "    <tr style=\"text-align: right;\">\n",
              "      <th></th>\n",
              "      <th>Unnamed: 0</th>\n",
              "      <th>author_id</th>\n",
              "      <th>id</th>\n",
              "      <th>text</th>\n",
              "      <th>emotion</th>\n",
              "    </tr>\n",
              "  </thead>\n",
              "  <tbody>\n",
              "    <tr>\n",
              "      <th>4</th>\n",
              "      <td>4</td>\n",
              "      <td>1260540744390938624</td>\n",
              "      <td>1490208653642964992</td>\n",
              "      <td>同じ嬉しい \\nよろしくお願いします🤲</td>\n",
              "      <td>POSITIVE</td>\n",
              "    </tr>\n",
              "    <tr>\n",
              "      <th>5</th>\n",
              "      <td>5</td>\n",
              "      <td>1253523190220943361</td>\n",
              "      <td>1490208573938614273</td>\n",
              "      <td>スッキリした人間関係\\n高水準の給与\\nほどほどの幸せを求めて 日々チームワークで助け合い仕...</td>\n",
              "      <td>POSITIVE</td>\n",
              "    </tr>\n",
              "    <tr>\n",
              "      <th>6</th>\n",
              "      <td>6</td>\n",
              "      <td>1364423333618458624</td>\n",
              "      <td>1490208132957622274</td>\n",
              "      <td>長袖 エプロン スモック 大人 割烹着 おしゃれ あったか  冬 起毛 t rチェック 袖リ...</td>\n",
              "      <td>POSITIVE</td>\n",
              "    </tr>\n",
              "    <tr>\n",
              "      <th>12</th>\n",
              "      <td>12</td>\n",
              "      <td>2938079040</td>\n",
              "      <td>1490207775619948555</td>\n",
              "      <td>さん尊敬でしかない🥺こんなやんちゃな子供を何十人も一気に面倒見て…🥺\\n\\n1週間の休園で疲...</td>\n",
              "      <td>POSITIVE</td>\n",
              "    </tr>\n",
              "    <tr>\n",
              "      <th>15</th>\n",
              "      <td>15</td>\n",
              "      <td>331824933</td>\n",
              "      <td>1490207388275986432</td>\n",
              "      <td>new未経験 目指す細身の可愛い女子大生 ／堺筋本町 プライベートサロン メンエス  羽衣天...</td>\n",
              "      <td>POSITIVE</td>\n",
              "    </tr>\n",
              "    <tr>\n",
              "      <th>...</th>\n",
              "      <td>...</td>\n",
              "      <td>...</td>\n",
              "      <td>...</td>\n",
              "      <td>...</td>\n",
              "      <td>...</td>\n",
              "    </tr>\n",
              "    <tr>\n",
              "      <th>29792</th>\n",
              "      <td>29792</td>\n",
              "      <td>1485147979208364035</td>\n",
              "      <td>1487999405026263040</td>\n",
              "      <td>セール エプロン おしゃれ tika ティカ ポケット付き バイカラー ハート フレアエプロ...</td>\n",
              "      <td>POSITIVE</td>\n",
              "    </tr>\n",
              "    <tr>\n",
              "      <th>29794</th>\n",
              "      <td>29794</td>\n",
              "      <td>2743272998</td>\n",
              "      <td>1487999227607207937</td>\n",
              "      <td>私の妹志望なんだけど 私の母が妹の小さい時の靴を見つけて履かせたらぴったりだったんだけど 色...</td>\n",
              "      <td>POSITIVE</td>\n",
              "    </tr>\n",
              "    <tr>\n",
              "      <th>29801</th>\n",
              "      <td>29801</td>\n",
              "      <td>1325082068380868611</td>\n",
              "      <td>1487998733770182656</td>\n",
              "      <td>試験で予防接種の問題出てくるからこのスケジュール表見てたけど 細かすぎてほぼ捨ててたなー笑笑...</td>\n",
              "      <td>POSITIVE</td>\n",
              "    </tr>\n",
              "    <tr>\n",
              "      <th>29802</th>\n",
              "      <td>29802</td>\n",
              "      <td>1456958171902525440</td>\n",
              "      <td>1487998615193010176</td>\n",
              "      <td>鬼めっちゃかわいい\\nまきちゃんさん</td>\n",
              "      <td>POSITIVE</td>\n",
              "    </tr>\n",
              "    <tr>\n",
              "      <th>29804</th>\n",
              "      <td>29804</td>\n",
              "      <td>1348083319401975809</td>\n",
              "      <td>1487998344928858112</td>\n",
              "      <td>vr iカップのおっぱいに埋もれる至高の癒し体験 甘々の甘やかしsexで大人をダメにする巨...</td>\n",
              "      <td>POSITIVE</td>\n",
              "    </tr>\n",
              "  </tbody>\n",
              "</table>\n",
              "<p>3139 rows × 5 columns</p>\n",
              "</div>\n",
              "      <button class=\"colab-df-convert\" onclick=\"convertToInteractive('df-97c3f5da-bae7-4d71-8ec3-77cedd38c0ef')\"\n",
              "              title=\"Convert this dataframe to an interactive table.\"\n",
              "              style=\"display:none;\">\n",
              "        \n",
              "  <svg xmlns=\"http://www.w3.org/2000/svg\" height=\"24px\"viewBox=\"0 0 24 24\"\n",
              "       width=\"24px\">\n",
              "    <path d=\"M0 0h24v24H0V0z\" fill=\"none\"/>\n",
              "    <path d=\"M18.56 5.44l.94 2.06.94-2.06 2.06-.94-2.06-.94-.94-2.06-.94 2.06-2.06.94zm-11 1L8.5 8.5l.94-2.06 2.06-.94-2.06-.94L8.5 2.5l-.94 2.06-2.06.94zm10 10l.94 2.06.94-2.06 2.06-.94-2.06-.94-.94-2.06-.94 2.06-2.06.94z\"/><path d=\"M17.41 7.96l-1.37-1.37c-.4-.4-.92-.59-1.43-.59-.52 0-1.04.2-1.43.59L10.3 9.45l-7.72 7.72c-.78.78-.78 2.05 0 2.83L4 21.41c.39.39.9.59 1.41.59.51 0 1.02-.2 1.41-.59l7.78-7.78 2.81-2.81c.8-.78.8-2.07 0-2.86zM5.41 20L4 18.59l7.72-7.72 1.47 1.35L5.41 20z\"/>\n",
              "  </svg>\n",
              "      </button>\n",
              "      \n",
              "  <style>\n",
              "    .colab-df-container {\n",
              "      display:flex;\n",
              "      flex-wrap:wrap;\n",
              "      gap: 12px;\n",
              "    }\n",
              "\n",
              "    .colab-df-convert {\n",
              "      background-color: #E8F0FE;\n",
              "      border: none;\n",
              "      border-radius: 50%;\n",
              "      cursor: pointer;\n",
              "      display: none;\n",
              "      fill: #1967D2;\n",
              "      height: 32px;\n",
              "      padding: 0 0 0 0;\n",
              "      width: 32px;\n",
              "    }\n",
              "\n",
              "    .colab-df-convert:hover {\n",
              "      background-color: #E2EBFA;\n",
              "      box-shadow: 0px 1px 2px rgba(60, 64, 67, 0.3), 0px 1px 3px 1px rgba(60, 64, 67, 0.15);\n",
              "      fill: #174EA6;\n",
              "    }\n",
              "\n",
              "    [theme=dark] .colab-df-convert {\n",
              "      background-color: #3B4455;\n",
              "      fill: #D2E3FC;\n",
              "    }\n",
              "\n",
              "    [theme=dark] .colab-df-convert:hover {\n",
              "      background-color: #434B5C;\n",
              "      box-shadow: 0px 1px 3px 1px rgba(0, 0, 0, 0.15);\n",
              "      filter: drop-shadow(0px 1px 2px rgba(0, 0, 0, 0.3));\n",
              "      fill: #FFFFFF;\n",
              "    }\n",
              "  </style>\n",
              "\n",
              "      <script>\n",
              "        const buttonEl =\n",
              "          document.querySelector('#df-97c3f5da-bae7-4d71-8ec3-77cedd38c0ef button.colab-df-convert');\n",
              "        buttonEl.style.display =\n",
              "          google.colab.kernel.accessAllowed ? 'block' : 'none';\n",
              "\n",
              "        async function convertToInteractive(key) {\n",
              "          const element = document.querySelector('#df-97c3f5da-bae7-4d71-8ec3-77cedd38c0ef');\n",
              "          const dataTable =\n",
              "            await google.colab.kernel.invokeFunction('convertToInteractive',\n",
              "                                                     [key], {});\n",
              "          if (!dataTable) return;\n",
              "\n",
              "          const docLinkHtml = 'Like what you see? Visit the ' +\n",
              "            '<a target=\"_blank\" href=https://colab.research.google.com/notebooks/data_table.ipynb>data table notebook</a>'\n",
              "            + ' to learn more about interactive tables.';\n",
              "          element.innerHTML = '';\n",
              "          dataTable['output_type'] = 'display_data';\n",
              "          await google.colab.output.renderOutput(dataTable, element);\n",
              "          const docLink = document.createElement('div');\n",
              "          docLink.innerHTML = docLinkHtml;\n",
              "          element.appendChild(docLink);\n",
              "        }\n",
              "      </script>\n",
              "    </div>\n",
              "  </div>\n",
              "  "
            ],
            "text/plain": [
              "       Unnamed: 0  ...   emotion\n",
              "4               4  ...  POSITIVE\n",
              "5               5  ...  POSITIVE\n",
              "6               6  ...  POSITIVE\n",
              "12             12  ...  POSITIVE\n",
              "15             15  ...  POSITIVE\n",
              "...           ...  ...       ...\n",
              "29792       29792  ...  POSITIVE\n",
              "29794       29794  ...  POSITIVE\n",
              "29801       29801  ...  POSITIVE\n",
              "29802       29802  ...  POSITIVE\n",
              "29804       29804  ...  POSITIVE\n",
              "\n",
              "[3139 rows x 5 columns]"
            ]
          },
          "metadata": {},
          "execution_count": 116
        }
      ]
    },
    {
      "cell_type": "code",
      "source": [
        "# 見える化したいデータ\n",
        "_df = df_negative.copy()"
      ],
      "metadata": {
        "id": "cpxRiHn4OqdW"
      },
      "execution_count": null,
      "outputs": []
    },
    {
      "cell_type": "markdown",
      "source": [
        "## 取得したデータを見える化(WordCloud)\n",
        "\n",
        "https://qiita.com/turmericN/items/04cd0b40f91076f0ef42"
      ],
      "metadata": {
        "id": "BJ2CL5qUugvy"
      }
    },
    {
      "cell_type": "code",
      "source": [
        "!pip install janome"
      ],
      "metadata": {
        "colab": {
          "base_uri": "https://localhost:8080/"
        },
        "id": "Lk45QbzTyL-e",
        "outputId": "da3d65b0-3cc1-4ae5-d63e-39dd79cf56dd"
      },
      "execution_count": null,
      "outputs": [
        {
          "output_type": "stream",
          "name": "stdout",
          "text": [
            "Requirement already satisfied: janome in /usr/local/lib/python3.7/dist-packages (0.4.1)\n"
          ]
        }
      ]
    },
    {
      "cell_type": "code",
      "source": [
        "from janome.tokenizer import Tokenizer\n",
        "from collections import Counter, defaultdict\n",
        "from wordcloud import WordCloud"
      ],
      "metadata": {
        "id": "cA166NnnxsHZ"
      },
      "execution_count": null,
      "outputs": []
    },
    {
      "cell_type": "code",
      "source": [
        "font_path_gothic = '/usr/share/fonts/opentype/ipafont-gothic/ipagp.ttf'"
      ],
      "metadata": {
        "id": "ZNRcYBR2N9Qf"
      },
      "execution_count": null,
      "outputs": []
    },
    {
      "cell_type": "code",
      "source": [
        "def counter(texts):\n",
        "    t = Tokenizer()\n",
        "    words_count = defaultdict(int)\n",
        "    words = []\n",
        "    for text in texts:\n",
        "        tokens = t.tokenize(text)\n",
        "        for token in tokens:\n",
        "            # 品詞から名詞だけ抽出\n",
        "            pos = token.part_of_speech.split(',')[0]\n",
        "            if pos in ['名詞']:\n",
        "                # 必要ない単語を省く(実際の結果を見てから不必要そうな単語を記載しました)\n",
        "                if token.base_form not in [\"こと\", \"よう\", \"そう\", \"これ\", \"それ\"]:\n",
        "                    words_count[token.base_form] += 1\n",
        "                    words.append(token.base_form)\n",
        "    return words_count, words"
      ],
      "metadata": {
        "id": "i3sqwPZ7tzI6"
      },
      "execution_count": null,
      "outputs": []
    },
    {
      "cell_type": "code",
      "source": [
        "words_count, words = counter(_df[\"text\"])\n",
        "text = ' '.join(words)"
      ],
      "metadata": {
        "id": "GVsx5C7bxtyN"
      },
      "execution_count": null,
      "outputs": []
    },
    {
      "cell_type": "code",
      "source": [
        "wordcloud = WordCloud(background_color=\"white\",\n",
        "                      font_path=font_path_gothic, width=900, height=500).generate(text)"
      ],
      "metadata": {
        "id": "VykPnT1AqvGn"
      },
      "execution_count": null,
      "outputs": []
    },
    {
      "cell_type": "code",
      "source": [
        "wordcloud.to_file(\"./wordcloud_sample.png\")"
      ],
      "metadata": {
        "colab": {
          "base_uri": "https://localhost:8080/"
        },
        "id": "cARfVQkXHcx1",
        "outputId": "a7b83573-1112-494b-9b8e-fa56906fd924"
      },
      "execution_count": null,
      "outputs": [
        {
          "output_type": "execute_result",
          "data": {
            "text/plain": [
              "<wordcloud.wordcloud.WordCloud at 0x7fbb9bb8fc50>"
            ]
          },
          "metadata": {},
          "execution_count": 143
        }
      ]
    },
    {
      "cell_type": "code",
      "source": [
        "import matplotlib.pyplot as plt\n",
        "\n",
        "plt.figure(figsize=(12,10))\n",
        "plt.imshow(wordcloud)\n",
        "plt.axis('off')\n",
        "plt.show()"
      ],
      "metadata": {
        "id": "Og4KTMx3Po-h"
      },
      "execution_count": null,
      "outputs": []
    },
    {
      "cell_type": "markdown",
      "source": [
        "## 取得したデータを見える化(ネットワーク図)\n",
        "\n",
        "https://qiita.com/y_itoh/items/7aa33ba0b1e30b3ea33d"
      ],
      "metadata": {
        "id": "fUKk-oHwRN-m"
      }
    },
    {
      "cell_type": "markdown",
      "source": [
        "### Jaccard係数計算"
      ],
      "metadata": {
        "id": "vykZWRY2Xaip"
      }
    },
    {
      "cell_type": "code",
      "source": [
        "import MeCab\n",
        "mecab = MeCab.Tagger(\"-Ochasen\")\n",
        "\n",
        "# 文単位の名詞リストを生成\n",
        "noun_list = [\n",
        "             [v.split()[2] for v in mecab.parse(sentence).splitlines()\n",
        "             if (len(v.split())>=3 and v.split()[3][:2]=='名詞')]\n",
        "             for sentence in _df[\"text\"]\n",
        "             ]"
      ],
      "metadata": {
        "id": "-DfFbcImSlzA"
      },
      "execution_count": null,
      "outputs": []
    },
    {
      "cell_type": "code",
      "source": [
        "from itertools import combinations, dropwhile\n",
        "from collections import Counter, OrderedDict\n",
        "\n",
        "def bform2pair(bform_2l, min_cnt=5):\n",
        "    # 単語ペアの出現章数をカウント\n",
        " \n",
        "    # 全単語ペアのリスト\n",
        "    pair_all = []\n",
        " \n",
        "    for bform_l in bform_2l:\n",
        "        # 章ごとに単語ペアを作成\n",
        "        # combinationsを使うと順番が違うだけのペアは重複しない\n",
        "        # ただし、同単語のペアは存在しえるのでsetでユニークにする\n",
        "        pair_l = list(combinations(set(bform_l), 2))\n",
        " \n",
        "        # 単語ペアの順番をソート\n",
        "        for i,pair in enumerate(pair_l):\n",
        "            pair_l[i] = tuple(sorted(pair))\n",
        " \n",
        "        pair_all += pair_l\n",
        " \n",
        "    # 単語ペアごとの出現章数\n",
        "    pair_count = Counter(pair_all)\n",
        " \n",
        "    # ペア数がmin_cnt以上に限定\n",
        "    for key, count in dropwhile(lambda key_count: key_count[1] >= min_cnt, pair_count.most_common()):\n",
        "        del pair_count[key]\n",
        " \n",
        "    return pair_count"
      ],
      "metadata": {
        "id": "ZnGjmoUUWsSa"
      },
      "execution_count": null,
      "outputs": []
    },
    {
      "cell_type": "code",
      "source": [
        "def pair2jaccard(pair_count, bform_2l, edge_th=0.4):\n",
        "    # jaccard係数を計算\n",
        " \n",
        "    # 単語ごとの出現章数\n",
        "    word_count = Counter()\n",
        "    for bform_l in bform_2l:\n",
        "        word_count += Counter(set(bform_l))\n",
        " \n",
        "    # 単語ペアごとのjaccard係数を計算\n",
        "    jaccard_coef = []\n",
        "    for pair, cnt in pair_count.items():\n",
        "        jaccard_coef.append(cnt / (word_count[pair[0]] + word_count[pair[1]] - cnt))\n",
        " \n",
        "    # jaccard係数がedge_th未満の単語ペアを除外\n",
        "    jaccard_dict = OrderedDict()\n",
        "    for (pair, cnt), coef in zip(pair_count.items(), jaccard_coef):\n",
        "        if coef >= edge_th:\n",
        "            jaccard_dict[pair] = coef\n",
        "            #print(pair, cnt, coef, word_count[pair[0]], word_count[pair[1]], sep='\\t')\n",
        " \n",
        "    return jaccard_dict"
      ],
      "metadata": {
        "id": "BnfBZ9wCU5qF"
      },
      "execution_count": null,
      "outputs": []
    },
    {
      "cell_type": "code",
      "source": [
        "pair_count = bform2pair(noun_list, min_cnt=5)\n",
        "jaccard_dict = pair2jaccard(pair_count, noun_list, edge_th=0.5) "
      ],
      "metadata": {
        "id": "I-nx8IaFW7XJ"
      },
      "execution_count": null,
      "outputs": []
    },
    {
      "cell_type": "markdown",
      "metadata": {
        "id": "b-QubyKPpndc"
      },
      "source": [
        "### ネットワーク図\n",
        "\n",
        "https://irukanobox.blogspot.com/2021/02/python.html"
      ]
    },
    {
      "cell_type": "markdown",
      "metadata": {
        "id": "scz6TyEDpndc"
      },
      "source": [
        "#### 必要なソフトウェア・ライブラリ"
      ]
    },
    {
      "cell_type": "code",
      "metadata": {
        "id": "2nomgZFPpndc",
        "colab": {
          "base_uri": "https://localhost:8080/"
        },
        "outputId": "7bd27cb7-3365-482f-d16a-a738a1219a23"
      },
      "source": [
        "!sudo apt install graphviz\n",
        "!sudo apt-get install -y python3-dev graphviz libgraphviz-dev pkg-config\n",
        "!pip install pygraphviz"
      ],
      "execution_count": null,
      "outputs": [
        {
          "output_type": "stream",
          "name": "stdout",
          "text": [
            "Reading package lists... Done\n",
            "Building dependency tree       \n",
            "Reading state information... Done\n",
            "graphviz is already the newest version (2.40.1-2).\n",
            "0 upgraded, 0 newly installed, 0 to remove and 39 not upgraded.\n",
            "Reading package lists... Done\n",
            "Building dependency tree       \n",
            "Reading state information... Done\n",
            "pkg-config is already the newest version (0.29.1-0ubuntu2).\n",
            "graphviz is already the newest version (2.40.1-2).\n",
            "libgraphviz-dev is already the newest version (2.40.1-2).\n",
            "python3-dev is already the newest version (3.6.7-1~18.04).\n",
            "0 upgraded, 0 newly installed, 0 to remove and 39 not upgraded.\n",
            "Requirement already satisfied: pygraphviz in /usr/local/lib/python3.7/dist-packages (1.7)\n"
          ]
        }
      ]
    },
    {
      "cell_type": "markdown",
      "metadata": {
        "id": "IRE9Xqgjpndc"
      },
      "source": [
        "#### ネットワーク図作成"
      ]
    },
    {
      "cell_type": "code",
      "source": [
        "import networkx as nx\n",
        "# matplotlibのターミナル対応\n",
        "import matplotlib\n",
        "matplotlib.use('Agg')\n",
        "import matplotlib.pyplot as plt\n",
        "import numpy as np\n",
        "import pygraphviz\n",
        "import plotly.graph_objects as go"
      ],
      "metadata": {
        "id": "mQNzZkV0uC6l"
      },
      "execution_count": null,
      "outputs": []
    },
    {
      "cell_type": "code",
      "source": [
        "def build_interactive_network(G, pos, node_sizes, node_colors):\n",
        "\n",
        "    # edgeデータの作成\n",
        "    edge_x = []\n",
        "    edge_y = []\n",
        "    for edge in G.edges():\n",
        "        x0, y0 = pos[edge[0]]\n",
        "        x1, y1 = pos[edge[1]]\n",
        "        edge_x.append(x0)\n",
        "        edge_x.append(x1)\n",
        "        edge_x.append(None)\n",
        "        edge_y.append(y0)\n",
        "        edge_y.append(y1)\n",
        "        edge_y.append(None)\n",
        "  \n",
        "    edge_trace = go.Scatter(\n",
        "        x=edge_x, y=edge_y,\n",
        "        line=dict(width=0.5, color='#888'),\n",
        "        hoverinfo='none',\n",
        "        mode='lines')\n",
        "  \n",
        "    # nodeデータの作成\n",
        "    node_x = []\n",
        "    node_y = []\n",
        "    for node in G.nodes():\n",
        "        x, y = pos[node]\n",
        "        node_x.append(x)\n",
        "        node_y.append(y)\n",
        "  \n",
        "    # nodeの色、サイズ、マウスオーバーしたときに表示するテキストの設定\n",
        "    node_trace = go.Scatter(\n",
        "        x=node_x,\n",
        "        y=node_y,\n",
        "        text=list(G.nodes()),\n",
        "        hovertext=node_sizes,\n",
        "        textposition='top center',\n",
        "        mode='markers+text',\n",
        "        hoverinfo='text',\n",
        "        marker=dict(\n",
        "            showscale=True,\n",
        "            colorscale='Portland',\n",
        "            reversescale=False,\n",
        "            color=node_colors,\n",
        "            size=node_sizes,\n",
        "            colorbar=dict(\n",
        "                thickness=15,\n",
        "                title='Tweet数',\n",
        "            ),\n",
        "            line_width=2))\n",
        "     \n",
        "    data = [edge_trace, node_trace]\n",
        " \n",
        "    # レイアウトの設定\n",
        "    layout=go.Layout(\n",
        "                paper_bgcolor='rgb(233,233,233)',\n",
        "                plot_bgcolor='rgba(0,0,0,0)',\n",
        "                showlegend=False,\n",
        "                hovermode='closest',\n",
        "                margin=dict(b=10, l=5, r=5, t=10),\n",
        "                font=dict(size=10),\n",
        "                xaxis=dict(showgrid=False, zeroline=False, showticklabels=False),\n",
        "                yaxis = dict(showgrid = False, zeroline = False, showticklabels = False))\n",
        " \n",
        "    fig = go.Figure(data=data, layout=layout)\n",
        "    return fig"
      ],
      "metadata": {
        "id": "lMecgyOBaVou"
      },
      "execution_count": null,
      "outputs": []
    },
    {
      "cell_type": "code",
      "source": [
        "import itertools\n",
        "import collections\n",
        "\n",
        "_n = list(itertools.chain.from_iterable(noun_list))\n",
        "#nodes = set(_n)\n",
        "_c = collections.Counter(_n)\n",
        "\n",
        "# 件数が多いため100で割る\n",
        "dict_c = dict(zip(list(_c.keys()), [n/10 for n in _c.values()]))"
      ],
      "metadata": {
        "id": "7q2bsWKtypRm"
      },
      "execution_count": null,
      "outputs": []
    },
    {
      "cell_type": "code",
      "source": [
        "freq_top=80\n",
        "edge_top=60\n",
        " \n",
        "# nodeリスト\n",
        "nodes = sorted(set([word for pair in jaccard_dict.keys() for word in pair]))\n",
        "\n",
        "c_word ={}\n",
        "\n",
        "for r, n in enumerate(nodes):\n",
        "  c_word.update({n : dict_c[n]})\n",
        "\n",
        "G = nx.Graph()\n",
        "\n",
        "#  接点／単語（node）の追加\n",
        "G.add_nodes_from(nodes)\n",
        "print('Number of nodes: {}'.format(G.number_of_nodes()))\n",
        "\n",
        "#  線（edge）の追加\n",
        "for pair, coef in jaccard_dict.items():\n",
        "    G.add_edge(pair[0], pair[1], weight=coef)\n",
        "print('Number of edges: {}'.format(G.number_of_edges()))\n",
        "\n",
        "# nodeの配置方法の指定\n",
        "seed = 0\n",
        "np.random.seed(seed)\n",
        "pos = nx.nx_agraph.graphviz_layout(\n",
        "    G,\n",
        "    prog='neato',\n",
        "    args='-Goverlap=\"scalexy\" -Gsep=\"+6\" -Gnodesep=0.8 -Gsplines=\"polyline\" -GpackMode=\"graph\" -Gstart={}'.format(seed))\n",
        "\n",
        "# nodeの色をページランクアルゴリズムによる重要度により変える\n",
        "pr = nx.pagerank(G)\n",
        "\n",
        "# インタラクティブな共起ネットワークの可視化\n",
        "build_interactive_network(G, pos, list(c_word.values()), list(pr.values()))"
      ],
      "metadata": {
        "colab": {
          "base_uri": "https://localhost:8080/",
          "height": 579
        },
        "id": "cgJwHOr23FSf",
        "outputId": "c93f1cd8-28f1-422f-ceaa-dd04076e1e15"
      },
      "execution_count": null,
      "outputs": [
        {
          "output_type": "stream",
          "name": "stdout",
          "text": [
            "Number of nodes: 197\n",
            "Number of edges: 642\n"
          ]
        },
        {
          "output_type": "display_data",
          "data": {
            "text/html": [
              "<html>\n",
              "<head><meta charset=\"utf-8\" /></head>\n",
              "<body>\n",
              "    <div>            <script src=\"https://cdnjs.cloudflare.com/ajax/libs/mathjax/2.7.5/MathJax.js?config=TeX-AMS-MML_SVG\"></script><script type=\"text/javascript\">if (window.MathJax) {MathJax.Hub.Config({SVG: {font: \"STIX-Web\"}});}</script>                <script type=\"text/javascript\">window.PlotlyConfig = {MathJaxConfig: 'local'};</script>\n",
              "        <script src=\"https://cdn.plot.ly/plotly-2.8.3.min.js\"></script>                <div id=\"43d32284-8afb-4906-bd79-1c402c947c85\" class=\"plotly-graph-div\" style=\"height:525px; width:100%;\"></div>            <script type=\"text/javascript\">                                    window.PLOTLYENV=window.PLOTLYENV || {};                                    if (document.getElementById(\"43d32284-8afb-4906-bd79-1c402c947c85\")) {                    Plotly.newPlot(                        \"43d32284-8afb-4906-bd79-1c402c947c85\",                        [{\"hoverinfo\":\"none\",\"line\":{\"color\":\"#888\",\"width\":0.5},\"mode\":\"lines\",\"x\":[1303.0,1549.2,null,1303.0,1358.9,null,1303.0,1355.9,null,1303.0,1465.4,null,1303.0,1582.5,null,1303.0,1434.4,null,1303.0,1479.7,null,1303.0,1402.5,null,1402.5,1549.2,null,1402.5,1358.9,null,1402.5,1355.9,null,1402.5,1465.4,null,1402.5,1582.5,null,1402.5,1434.4,null,1402.5,1578.3,null,1402.5,1479.7,null,611.67,685.01,null,611.67,455.41,null,611.67,898.63,null,611.67,591.81,null,611.67,397.29,null,611.67,753.86,null,611.67,964.17,null,611.67,706.21,null,611.67,808.01,null,611.67,377.25,null,1365.1,1434.4,null,591.81,685.01,null,591.81,455.41,null,591.81,898.63,null,591.81,397.29,null,591.81,753.86,null,591.81,964.17,null,591.81,706.21,null,591.81,808.01,null,591.81,377.25,null,125.08,87.247,null,1479.7,1549.2,null,1479.7,1358.9,null,1479.7,1355.9,null,1479.7,1465.4,null,1479.7,1582.5,null,1479.7,1434.4,null,1479.7,1578.3,null,1465.4,1549.2,null,1465.4,1358.9,null,1465.4,1355.9,null,1465.4,1582.5,null,1465.4,1434.4,null,1465.4,1578.3,null,1136.6,1533.2,null,1136.6,1122.1,null,1136.6,1072.0,null,1136.6,1465.1,null,1136.6,1171.7,null,1136.6,976.1,null,1136.6,1591.5,null,1136.6,1551.6,null,1136.6,1300.3,null,1136.6,1228.3,null,1136.6,1607.2,null,1136.6,1298.8,null,1136.6,1483.3,null,1136.6,1356.8,null,1136.6,1372.2,null,1507.2,1747.2,null,1507.2,1624.3,null,1507.2,1632.8,null,1507.2,1676.7,null,1507.2,1332.0,null,308.73,341.74,null,308.73,327.62,null,308.73,247.2,null,1034.5,1032.1,null,1034.5,1151.0,null,1034.5,1147.5,null,1034.5,1221.2,null,1032.1,1151.0,null,1032.1,1147.5,null,1032.1,1221.2,null,639.32,1009.4,null,639.32,1107.4,null,639.32,872.18,null,639.32,1026.3,null,639.32,849.5,null,639.32,1234.4,null,639.32,723.27,null,639.32,644.16,null,639.32,500.09,null,639.32,348.25,null,639.32,743.52,null,639.32,1231.6,null,639.32,1029.0,null,639.32,1247.4,null,639.32,1185.8,null,639.32,870.75,null,639.32,820.05,null,639.32,595.22,null,639.32,1100.1,null,639.32,836.84,null,639.32,706.11,null,639.32,931.17,null,639.32,1032.6,null,1549.2,1358.9,null,1549.2,1355.9,null,1549.2,1582.5,null,1549.2,1434.4,null,1549.2,1578.3,null,449.44,567.49,null,449.44,489.47,null,449.44,352.55,null,449.44,489.64,null,449.44,623.39,null,449.44,415.31,null,449.44,344.82,null,449.44,319.25,null,114.0,169.07,null,114.0,267.39,null,114.0,356.73,null,1500.6,1665.8,null,1500.6,1709.1,null,1500.6,1478.2,null,1500.6,1545.3,null,1500.6,1580.2,null,1500.6,1655.1,null,1500.6,1628.1,null,247.2,341.74,null,1751.5,1665.8,null,122.83,85.0,null,250.18,212.35,null,1042.9,1005.1,null,319.25,489.47,null,319.25,352.55,null,319.25,489.64,null,319.25,415.31,null,319.25,344.82,null,1298.8,1533.2,null,1298.8,1122.1,null,1298.8,1072.0,null,1298.8,1465.1,null,1298.8,1171.7,null,1298.8,976.1,null,1298.8,1591.5,null,1298.8,1551.6,null,1298.8,1300.3,null,1298.8,1228.3,null,1298.8,1607.2,null,1298.8,1483.3,null,1298.8,1356.8,null,1298.8,1372.2,null,836.84,1009.4,null,836.84,1107.4,null,836.84,872.18,null,836.84,1026.3,null,836.84,849.5,null,836.84,1234.4,null,836.84,723.27,null,836.84,644.16,null,836.84,500.09,null,836.84,743.52,null,836.84,1231.6,null,836.84,1029.0,null,836.84,1247.4,null,836.84,1185.8,null,836.84,870.75,null,836.84,820.05,null,836.84,595.22,null,836.84,1100.1,null,836.84,706.11,null,836.84,931.17,null,836.84,1032.6,null,1478.2,1709.1,null,1478.2,1580.2,null,1478.2,1655.1,null,1478.2,1628.1,null,444.52,267.39,null,444.52,356.73,null,567.49,489.47,null,567.49,489.64,null,1171.7,1122.1,null,1171.7,1072.0,null,1171.7,1465.1,null,1171.7,976.1,null,1171.7,1591.5,null,1171.7,1300.3,null,1171.7,1228.3,null,1171.7,1607.2,null,1171.7,1483.3,null,1171.7,1356.8,null,1171.7,1372.2,null,814.59,725.25,null,814.59,827.77,null,814.59,891.25,null,174.25,252.13,null,174.25,181.63,null,174.25,244.64,null,1514.8,1477.0,null,1607.2,1533.2,null,1607.2,1122.1,null,1607.2,1072.0,null,1607.2,1465.1,null,1607.2,976.1,null,1607.2,1591.5,null,1607.2,1551.6,null,1607.2,1300.3,null,1607.2,1228.3,null,1607.2,1483.3,null,1607.2,1356.8,null,1607.2,1372.2,null,1358.9,1355.9,null,1358.9,1582.5,null,1358.9,1434.4,null,1358.9,1578.3,null,122.83,85.0,null,1757.2,1855.5,null,1757.2,1676.7,null,1757.2,1632.8,null,1757.2,1747.2,null,1757.2,1624.3,null,1757.2,1840.3,null,1551.6,1122.1,null,1551.6,1072.0,null,1551.6,1465.1,null,1551.6,1591.5,null,1551.6,1300.3,null,1551.6,1228.3,null,1551.6,1483.3,null,1551.6,1372.2,null,1465.1,1533.2,null,1465.1,1122.1,null,1465.1,1072.0,null,1465.1,976.1,null,1465.1,1591.5,null,1465.1,1300.3,null,1465.1,1228.3,null,1465.1,1483.3,null,1465.1,1356.8,null,1465.1,1372.2,null,706.21,685.01,null,706.21,455.41,null,706.21,898.63,null,706.21,397.29,null,706.21,753.86,null,706.21,964.17,null,706.21,808.01,null,706.21,377.25,null,743.52,1009.4,null,743.52,1107.4,null,743.52,872.18,null,743.52,1026.3,null,743.52,849.5,null,743.52,1234.4,null,743.52,723.27,null,743.52,644.16,null,743.52,500.09,null,743.52,348.25,null,743.52,1231.6,null,743.52,1029.0,null,743.52,1247.4,null,743.52,1185.8,null,743.52,870.75,null,743.52,820.05,null,743.52,595.22,null,743.52,1100.1,null,743.52,706.11,null,743.52,931.17,null,743.52,1032.6,null,1372.2,1533.2,null,1372.2,1122.1,null,1372.2,1072.0,null,1372.2,976.1,null,1372.2,1591.5,null,1372.2,1300.3,null,1372.2,1228.3,null,1372.2,1483.3,null,1372.2,1356.8,null,511.18,473.35,null,122.83,85.0,null,1544.2,1694.2,null,1544.2,1679.7,null,1544.2,1558.5,null,872.18,1009.4,null,872.18,1107.4,null,872.18,1026.3,null,872.18,849.5,null,872.18,1234.4,null,872.18,723.27,null,872.18,644.16,null,872.18,500.09,null,872.18,348.25,null,872.18,1231.6,null,872.18,1029.0,null,872.18,1247.4,null,872.18,1185.8,null,872.18,870.75,null,872.18,820.05,null,872.18,595.22,null,872.18,1100.1,null,872.18,706.11,null,872.18,931.17,null,872.18,1032.6,null,1100.1,1009.4,null,1100.1,1107.4,null,1100.1,1026.3,null,1100.1,849.5,null,1100.1,1234.4,null,1100.1,723.27,null,1100.1,644.16,null,1100.1,500.09,null,1100.1,1231.6,null,1100.1,1029.0,null,1100.1,1247.4,null,1100.1,1185.8,null,1100.1,870.75,null,1100.1,820.05,null,1100.1,595.22,null,1100.1,706.11,null,1100.1,931.17,null,1100.1,1032.6,null,644.16,1009.4,null,644.16,1107.4,null,644.16,1026.3,null,644.16,849.5,null,644.16,1234.4,null,644.16,723.27,null,644.16,500.09,null,644.16,348.25,null,644.16,1231.6,null,644.16,1029.0,null,644.16,1247.4,null,644.16,1185.8,null,644.16,870.75,null,644.16,820.05,null,644.16,595.22,null,644.16,706.11,null,644.16,931.17,null,644.16,1032.6,null,267.39,426.03,null,267.39,169.07,null,267.39,160.79,null,267.39,339.02,null,267.39,440.9,null,267.39,356.73,null,267.39,235.43,null,1147.5,1151.0,null,1147.5,1221.2,null,1151.0,1221.2,null,1234.4,1009.4,null,1234.4,1107.4,null,1234.4,1026.3,null,1234.4,849.5,null,1234.4,723.27,null,1234.4,1231.6,null,1234.4,1029.0,null,1234.4,1247.4,null,1234.4,1185.8,null,1234.4,870.75,null,1234.4,820.05,null,1234.4,706.11,null,1234.4,931.17,null,1234.4,1032.6,null,706.11,1009.4,null,706.11,1107.4,null,706.11,1026.3,null,706.11,849.5,null,706.11,723.27,null,706.11,500.09,null,706.11,348.25,null,706.11,1231.6,null,706.11,1029.0,null,706.11,1247.4,null,706.11,1185.8,null,706.11,870.75,null,706.11,820.05,null,706.11,595.22,null,706.11,931.17,null,706.11,1032.6,null,1026.3,1009.4,null,1026.3,1107.4,null,1026.3,849.5,null,1026.3,723.27,null,1026.3,500.09,null,1026.3,1231.6,null,1026.3,1029.0,null,1026.3,1247.4,null,1026.3,1185.8,null,1026.3,870.75,null,1026.3,820.05,null,1026.3,595.22,null,1026.3,931.17,null,1026.3,1032.6,null,1072.0,1122.1,null,1072.0,976.1,null,1072.0,1591.5,null,1072.0,1300.3,null,1072.0,1228.3,null,1072.0,1483.3,null,1072.0,1356.8,null,1356.8,1122.1,null,1356.8,976.1,null,1356.8,1591.5,null,1356.8,1300.3,null,1356.8,1228.3,null,1356.8,1483.3,null,898.63,685.01,null,1545.3,1709.1,null,1545.3,1580.2,null,1545.3,1655.1,null,1545.3,1628.1,null,1198.1,1160.2,null,976.1,1122.1,null,976.1,1591.5,null,976.1,1300.3,null,976.1,1228.3,null,976.1,1483.3,null,1228.3,1533.2,null,1228.3,1122.1,null,1228.3,1591.5,null,1228.3,1300.3,null,1228.3,1483.3,null,1709.1,1665.8,null,1709.1,1580.2,null,1709.1,1655.1,null,1709.1,1628.1,null,489.64,489.47,null,489.64,352.55,null,489.64,623.39,null,489.64,415.31,null,489.64,344.82,null,489.47,352.55,null,489.47,623.39,null,489.47,415.31,null,489.47,344.82,null,235.43,426.03,null,235.43,169.07,null,235.43,160.79,null,235.43,339.02,null,235.43,440.9,null,235.43,356.73,null,1032.6,1009.4,null,1032.6,1107.4,null,1032.6,849.5,null,1032.6,723.27,null,1032.6,500.09,null,1032.6,1231.6,null,1032.6,1029.0,null,1032.6,1247.4,null,1032.6,1185.8,null,1032.6,870.75,null,1032.6,820.05,null,1032.6,595.22,null,1032.6,931.17,null,1676.7,1855.5,null,1676.7,1632.8,null,1676.7,1747.2,null,1676.7,1624.3,null,1676.7,1840.3,null,599.12,587.68,null,599.12,520.0,null,599.12,629.54,null,599.12,671.43,null,599.12,698.64,null,426.03,169.07,null,426.03,160.79,null,426.03,339.02,null,426.03,440.9,null,426.03,356.73,null,808.01,685.01,null,808.01,753.86,null,93.832,56.0,null,698.64,587.68,null,698.64,629.54,null,698.64,671.43,null,377.25,685.01,null,377.25,753.86,null,1483.3,1533.2,null,1483.3,1122.1,null,1483.3,1591.5,null,1483.3,1300.3,null,270.08,232.25,null,233.67,302.74,null,233.67,304.9,null,233.67,232.25,null,233.67,347.79,null,415.08,377.25,null,753.86,685.01,null,753.86,455.41,null,753.86,397.29,null,753.86,964.17,null,397.29,685.01,null,397.29,455.41,null,348.25,723.27,null,348.25,870.75,null,348.25,820.05,null,931.17,1009.4,null,931.17,1107.4,null,931.17,849.5,null,931.17,723.27,null,931.17,500.09,null,931.17,1231.6,null,931.17,1029.0,null,931.17,1247.4,null,931.17,1185.8,null,931.17,870.75,null,931.17,820.05,null,931.17,595.22,null,964.17,685.01,null,185.09,172.0,null,185.09,242.68,null,356.73,169.07,null,356.73,160.79,null,356.73,339.02,null,356.73,440.9,null,203.25,275.57,null,820.05,1009.4,null,820.05,1107.4,null,820.05,849.5,null,820.05,723.27,null,820.05,500.09,null,820.05,1231.6,null,820.05,1029.0,null,820.05,1247.4,null,820.05,1185.8,null,820.05,870.75,null,820.05,595.22,null,975.18,937.35,null,275.57,330.59,null,275.57,346.06,null,172.0,242.68,null,1247.4,1009.4,null,1247.4,1107.4,null,1247.4,849.5,null,1247.4,723.27,null,1247.4,1231.6,null,1247.4,1029.0,null,1247.4,1185.8,null,1247.4,870.75,null,1009.4,1107.4,null,1009.4,849.5,null,1009.4,723.27,null,1009.4,1231.6,null,1009.4,1029.0,null,1009.4,1185.8,null,1009.4,870.75,null,647.08,609.25,null,966.08,928.25,null,1632.8,1855.5,null,1632.8,1747.2,null,1632.8,1624.3,null,1632.8,1840.3,null,870.75,1107.4,null,870.75,849.5,null,870.75,723.27,null,870.75,500.09,null,870.75,1231.6,null,870.75,1029.0,null,870.75,1185.8,null,870.75,595.22,null,1185.8,1107.4,null,1185.8,849.5,null,1185.8,723.27,null,1185.8,1231.6,null,1185.8,1029.0,null,1372.1,1334.2,null,1662.1,1624.2,null,1434.4,1582.5,null,1434.4,1578.3,null,232.25,302.74,null,232.25,304.9,null,232.25,347.79,null,1300.3,1533.2,null,1300.3,1122.1,null,1300.3,1591.5,null,1662.1,1624.2,null,520.0,587.68,null,520.0,629.54,null,1591.5,1533.2,null,1591.5,1122.1,null,1840.3,1855.5,null,1840.3,1747.2,null,1840.3,1624.3,null,502.08,464.25,null,685.01,455.41,null,181.63,252.13,null,181.63,244.64,null,1231.6,1107.4,null,1231.6,849.5,null,1231.6,723.27,null,1231.6,1029.0,null,1558.5,1694.2,null,1558.5,1679.7,null,344.82,352.55,null,344.82,415.31,null,723.27,1107.4,null,723.27,849.5,null,723.27,500.09,null,723.27,1029.0,null,723.27,595.22,null,252.13,244.64,null,96.08,58.247,null,67.08,29.247,null,1582.5,1578.3,null,812.25,864.63,null,1107.4,849.5,null,1107.4,1029.0,null,160.79,169.07,null,160.79,339.02,null,160.79,440.9,null,1029.0,849.5,null,1029.0,500.09,null,1029.0,595.22,null,1655.1,1580.2,null,1655.1,1628.1,null,671.43,587.68,null,671.43,629.54,null,440.9,169.07,null,440.9,339.02,null,629.54,587.68,null,1747.2,1855.5,null,1747.2,1624.3,null,849.5,500.09,null,849.5,595.22,null,67.08,29.247,null,67.08,29.247,null,789.83,752.0,null,169.07,339.02,null,1691.1,1653.2,null,1053.1,1015.2,null,64.832,27.0,null,1580.2,1665.8,null,1580.2,1628.1,null,864.63,935.12,null,1665.8,1628.1,null,302.74,304.9,null,302.74,347.79,null,304.9,347.79,null,330.59,346.06,null,1624.3,1855.5,null,1122.1,1533.2,null,352.55,415.31,null,1694.2,1679.7,null,1108.8,1071.0,null],\"y\":[600.12,634.82,null,600.12,505.47,null,600.12,751.15,null,600.12,534.56,null,600.12,536.78,null,600.12,415.69,null,600.12,671.39,null,600.12,610.37,null,610.37,634.82,null,610.37,505.47,null,610.37,751.15,null,610.37,534.56,null,610.37,536.78,null,610.37,415.69,null,610.37,440.19,null,610.37,671.39,null,1396.9,1283.9,null,1396.9,1248.4,null,1396.9,1236.0,null,1396.9,1577.1,null,1396.9,1554.6,null,1396.9,1426.1,null,1396.9,1496.7,null,1396.9,1554.9,null,1396.9,1722.7,null,1396.9,1392.2,null,221.0,415.69,null,1577.1,1283.9,null,1577.1,1248.4,null,1577.1,1236.0,null,1577.1,1554.6,null,1577.1,1426.1,null,1577.1,1496.7,null,1577.1,1554.9,null,1577.1,1722.7,null,1577.1,1392.2,null,337.0,398.26,null,671.39,634.82,null,671.39,505.47,null,671.39,751.15,null,671.39,534.56,null,671.39,536.78,null,671.39,415.69,null,671.39,440.19,null,534.56,634.82,null,534.56,505.47,null,534.56,751.15,null,534.56,536.78,null,534.56,415.69,null,534.56,440.19,null,1379.3,975.0,null,1379.3,1203.8,null,1379.3,1563.8,null,1379.3,1269.6,null,1379.3,1670.5,null,1379.3,1350.8,null,1379.3,1276.2,null,1379.3,1655.4,null,1379.3,1513.1,null,1379.3,1122.2,null,1379.3,1426.9,null,1379.3,1330.5,null,1379.3,1495.4,null,1379.3,1692.1,null,1379.3,1143.2,null,825.6,829.54,null,825.6,700.68,null,825.6,617.62,null,825.6,785.03,null,825.6,928.3,null,1564.1,1655.7,null,1564.1,1468.0,null,1564.1,1639.4,null,314.69,436.82,null,314.69,279.0,null,314.69,475.98,null,314.69,379.04,null,436.82,279.0,null,436.82,475.98,null,436.82,379.04,null,852.89,511.0,null,852.89,568.55,null,852.89,658.49,null,852.89,949.42,null,852.89,559.61,null,852.89,740.1,null,852.89,609.71,null,852.89,716.54,null,852.89,1046.2,null,852.89,590.64,null,852.89,764.54,null,852.89,966.02,null,852.89,1124.0,null,852.89,849.48,null,852.89,642.51,null,852.89,812.11,null,852.89,962.05,null,852.89,1170.4,null,852.89,1050.8,null,852.89,1110.7,null,852.89,966.94,null,852.89,1141.4,null,852.89,796.72,null,634.82,505.47,null,634.82,751.15,null,634.82,536.78,null,634.82,415.69,null,634.82,440.19,null,513.72,580.36,null,513.72,463.35,null,513.72,515.44,null,513.72,399.02,null,513.72,420.1,null,513.72,337.0,null,513.72,371.63,null,513.72,444.31,null,1108.9,882.39,null,1108.9,959.62,null,1108.9,951.72,null,1763.4,1627.9,null,1763.4,1810.8,null,1763.4,1886.7,null,1763.4,1946.3,null,1763.4,1738.0,null,1763.4,1943.5,null,1763.4,1818.4,null,1639.4,1655.7,null,1468.0,1627.9,null,134.0,195.26,null,366.0,427.26,null,163.0,224.26,null,444.31,463.35,null,444.31,515.44,null,444.31,399.02,null,444.31,337.0,null,444.31,371.63,null,1330.5,975.0,null,1330.5,1203.8,null,1330.5,1563.8,null,1330.5,1269.6,null,1330.5,1670.5,null,1330.5,1350.8,null,1330.5,1276.2,null,1330.5,1655.4,null,1330.5,1513.1,null,1330.5,1122.2,null,1330.5,1426.9,null,1330.5,1495.4,null,1330.5,1692.1,null,1330.5,1143.2,null,1110.7,511.0,null,1110.7,568.55,null,1110.7,658.49,null,1110.7,949.42,null,1110.7,559.61,null,1110.7,740.1,null,1110.7,609.71,null,1110.7,716.54,null,1110.7,1046.2,null,1110.7,764.54,null,1110.7,966.02,null,1110.7,1124.0,null,1110.7,849.48,null,1110.7,642.51,null,1110.7,812.11,null,1110.7,962.05,null,1110.7,1170.4,null,1110.7,1050.8,null,1110.7,966.94,null,1110.7,1141.4,null,1110.7,796.72,null,1886.7,1810.8,null,1886.7,1738.0,null,1886.7,1943.5,null,1886.7,1818.4,null,1165.9,959.62,null,1165.9,951.72,null,580.36,463.35,null,580.36,399.02,null,1670.5,1203.8,null,1670.5,1563.8,null,1670.5,1269.6,null,1670.5,1350.8,null,1670.5,1276.2,null,1670.5,1513.1,null,1670.5,1122.2,null,1670.5,1426.9,null,1670.5,1495.4,null,1670.5,1692.1,null,1670.5,1143.2,null,432.84,469.99,null,432.84,337.0,null,432.84,491.87,null,1446.5,1509.5,null,1446.5,1517.0,null,1446.5,1439.0,null,105.0,166.26,null,1426.9,975.0,null,1426.9,1203.8,null,1426.9,1563.8,null,1426.9,1269.6,null,1426.9,1350.8,null,1426.9,1276.2,null,1426.9,1655.4,null,1426.9,1513.1,null,1426.9,1122.2,null,1426.9,1495.4,null,1426.9,1692.1,null,1426.9,1143.2,null,505.47,751.15,null,505.47,536.78,null,505.47,415.69,null,505.47,440.19,null,1613.0,1674.3,null,569.0,748.03,null,569.0,785.03,null,569.0,617.62,null,569.0,829.54,null,569.0,700.68,null,569.0,639.97,null,1655.4,1203.8,null,1655.4,1563.8,null,1655.4,1269.6,null,1655.4,1276.2,null,1655.4,1513.1,null,1655.4,1122.2,null,1655.4,1495.4,null,1655.4,1143.2,null,1269.6,975.0,null,1269.6,1203.8,null,1269.6,1563.8,null,1269.6,1350.8,null,1269.6,1276.2,null,1269.6,1513.1,null,1269.6,1122.2,null,1269.6,1495.4,null,1269.6,1692.1,null,1269.6,1143.2,null,1554.9,1283.9,null,1554.9,1248.4,null,1554.9,1236.0,null,1554.9,1554.6,null,1554.9,1426.1,null,1554.9,1496.7,null,1554.9,1722.7,null,1554.9,1392.2,null,764.54,511.0,null,764.54,568.55,null,764.54,658.49,null,764.54,949.42,null,764.54,559.61,null,764.54,740.1,null,764.54,609.71,null,764.54,716.54,null,764.54,1046.2,null,764.54,590.64,null,764.54,966.02,null,764.54,1124.0,null,764.54,849.48,null,764.54,642.51,null,764.54,812.11,null,764.54,962.05,null,764.54,1170.4,null,764.54,1050.8,null,764.54,966.94,null,764.54,1141.4,null,764.54,796.72,null,1143.2,975.0,null,1143.2,1203.8,null,1143.2,1563.8,null,1143.2,1350.8,null,1143.2,1276.2,null,1143.2,1513.1,null,1143.2,1122.2,null,1143.2,1495.4,null,1143.2,1692.1,null,192.0,253.26,null,1323.0,1384.3,null,235.53,356.68,null,235.53,221.0,null,235.53,371.06,null,658.49,511.0,null,658.49,568.55,null,658.49,949.42,null,658.49,559.61,null,658.49,740.1,null,658.49,609.71,null,658.49,716.54,null,658.49,1046.2,null,658.49,590.64,null,658.49,966.02,null,658.49,1124.0,null,658.49,849.48,null,658.49,642.51,null,658.49,812.11,null,658.49,962.05,null,658.49,1170.4,null,658.49,1050.8,null,658.49,966.94,null,658.49,1141.4,null,658.49,796.72,null,1050.8,511.0,null,1050.8,568.55,null,1050.8,949.42,null,1050.8,559.61,null,1050.8,740.1,null,1050.8,609.71,null,1050.8,716.54,null,1050.8,1046.2,null,1050.8,966.02,null,1050.8,1124.0,null,1050.8,849.48,null,1050.8,642.51,null,1050.8,812.11,null,1050.8,962.05,null,1050.8,1170.4,null,1050.8,966.94,null,1050.8,1141.4,null,1050.8,796.72,null,716.54,511.0,null,716.54,568.55,null,716.54,949.42,null,716.54,559.61,null,716.54,740.1,null,716.54,609.71,null,716.54,1046.2,null,716.54,590.64,null,716.54,966.02,null,716.54,1124.0,null,716.54,849.48,null,716.54,642.51,null,716.54,812.11,null,716.54,962.05,null,716.54,1170.4,null,716.54,966.94,null,716.54,1141.4,null,716.54,796.72,null,959.62,744.8,null,959.62,882.39,null,959.62,766.96,null,959.62,685.0,null,959.62,847.37,null,959.62,951.72,null,959.62,693.64,null,475.98,279.0,null,475.98,379.04,null,279.0,379.04,null,740.1,511.0,null,740.1,568.55,null,740.1,949.42,null,740.1,559.61,null,740.1,609.71,null,740.1,966.02,null,740.1,1124.0,null,740.1,849.48,null,740.1,642.51,null,740.1,812.11,null,740.1,962.05,null,740.1,966.94,null,740.1,1141.4,null,740.1,796.72,null,966.94,511.0,null,966.94,568.55,null,966.94,949.42,null,966.94,559.61,null,966.94,609.71,null,966.94,1046.2,null,966.94,590.64,null,966.94,966.02,null,966.94,1124.0,null,966.94,849.48,null,966.94,642.51,null,966.94,812.11,null,966.94,962.05,null,966.94,1170.4,null,966.94,1141.4,null,966.94,796.72,null,949.42,511.0,null,949.42,568.55,null,949.42,559.61,null,949.42,609.71,null,949.42,1046.2,null,949.42,966.02,null,949.42,1124.0,null,949.42,849.48,null,949.42,642.51,null,949.42,812.11,null,949.42,962.05,null,949.42,1170.4,null,949.42,1141.4,null,949.42,796.72,null,1563.8,1203.8,null,1563.8,1350.8,null,1563.8,1276.2,null,1563.8,1513.1,null,1563.8,1122.2,null,1563.8,1495.4,null,1563.8,1692.1,null,1692.1,1203.8,null,1692.1,1350.8,null,1692.1,1276.2,null,1692.1,1513.1,null,1692.1,1122.2,null,1692.1,1495.4,null,1236.0,1283.9,null,1946.3,1810.8,null,1946.3,1738.0,null,1946.3,1943.5,null,1946.3,1818.4,null,134.0,195.26,null,1350.8,1203.8,null,1350.8,1276.2,null,1350.8,1513.1,null,1350.8,1122.2,null,1350.8,1495.4,null,1122.2,975.0,null,1122.2,1203.8,null,1122.2,1276.2,null,1122.2,1513.1,null,1122.2,1495.4,null,1810.8,1627.9,null,1810.8,1738.0,null,1810.8,1943.5,null,1810.8,1818.4,null,399.02,463.35,null,399.02,515.44,null,399.02,420.1,null,399.02,337.0,null,399.02,371.63,null,463.35,515.44,null,463.35,420.1,null,463.35,337.0,null,463.35,371.63,null,693.64,744.8,null,693.64,882.39,null,693.64,766.96,null,693.64,685.0,null,693.64,847.37,null,693.64,951.72,null,796.72,511.0,null,796.72,568.55,null,796.72,559.61,null,796.72,609.71,null,796.72,1046.2,null,796.72,966.02,null,796.72,1124.0,null,796.72,849.48,null,796.72,642.51,null,796.72,812.11,null,796.72,962.05,null,796.72,1170.4,null,796.72,1141.4,null,785.03,748.03,null,785.03,617.62,null,785.03,829.54,null,785.03,700.68,null,785.03,639.97,null,289.33,232.28,null,289.33,321.32,null,289.33,339.52,null,289.33,221.0,null,289.33,291.52,null,744.8,882.39,null,744.8,766.96,null,744.8,685.0,null,744.8,847.37,null,744.8,951.72,null,1722.7,1283.9,null,1722.7,1426.1,null,540.0,601.26,null,291.52,232.28,null,291.52,339.52,null,291.52,221.0,null,1392.2,1283.9,null,1392.2,1426.1,null,1495.4,975.0,null,1495.4,1203.8,null,1495.4,1276.2,null,1495.4,1513.1,null,76.0,137.26,null,1228.8,1327.4,null,1228.8,1207.0,null,1228.8,1303.5,null,1228.8,1268.1,null,76.0,137.26,null,1426.1,1283.9,null,1426.1,1248.4,null,1426.1,1554.6,null,1426.1,1496.7,null,1554.6,1283.9,null,1554.6,1248.4,null,590.64,609.71,null,590.64,812.11,null,590.64,962.05,null,1141.4,511.0,null,1141.4,568.55,null,1141.4,559.61,null,1141.4,609.71,null,1141.4,1046.2,null,1141.4,966.02,null,1141.4,1124.0,null,1141.4,849.48,null,1141.4,642.51,null,1141.4,812.11,null,1141.4,962.05,null,1141.4,1170.4,null,1496.7,1283.9,null,540.0,613.81,null,540.0,588.0,null,951.72,882.39,null,951.72,766.96,null,951.72,685.0,null,951.72,847.37,null,225.62,243.02,null,962.05,511.0,null,962.05,568.55,null,962.05,559.61,null,962.05,609.71,null,962.05,1046.2,null,962.05,966.02,null,962.05,1124.0,null,962.05,849.48,null,962.05,642.51,null,962.05,812.11,null,962.05,1170.4,null,1584.0,1645.3,null,243.02,292.16,null,243.02,221.0,null,613.81,588.0,null,849.48,511.0,null,849.48,568.55,null,849.48,559.61,null,849.48,609.71,null,849.48,966.02,null,849.48,1124.0,null,849.48,642.51,null,849.48,812.11,null,511.0,568.55,null,511.0,559.61,null,511.0,609.71,null,511.0,966.02,null,511.0,1124.0,null,511.0,642.51,null,511.0,812.11,null,76.0,137.26,null,76.0,137.26,null,617.62,748.03,null,617.62,829.54,null,617.62,700.68,null,617.62,639.97,null,812.11,568.55,null,812.11,559.61,null,812.11,609.71,null,812.11,1046.2,null,812.11,966.02,null,812.11,1124.0,null,812.11,642.51,null,812.11,1170.4,null,642.51,568.55,null,642.51,559.61,null,642.51,609.71,null,642.51,966.02,null,642.51,1124.0,null,76.0,137.26,null,76.0,137.26,null,415.69,536.78,null,415.69,440.19,null,1303.5,1327.4,null,1303.5,1207.0,null,1303.5,1268.1,null,1513.1,975.0,null,1513.1,1203.8,null,1513.1,1276.2,null,1004.0,1065.3,null,321.32,232.28,null,321.32,339.52,null,1276.2,975.0,null,1276.2,1203.8,null,639.97,748.03,null,639.97,829.54,null,639.97,700.68,null,1642.0,1703.3,null,1283.9,1248.4,null,1517.0,1509.5,null,1517.0,1439.0,null,966.02,568.55,null,966.02,559.61,null,966.02,609.71,null,966.02,1124.0,null,371.06,356.68,null,371.06,221.0,null,371.63,515.44,null,371.63,337.0,null,609.71,568.55,null,609.71,559.61,null,609.71,1046.2,null,609.71,1124.0,null,609.71,1170.4,null,1509.5,1439.0,null,975.0,1036.3,null,830.0,891.26,null,536.78,440.19,null,192.0,259.15,null,568.55,559.61,null,568.55,1124.0,null,766.96,882.39,null,766.96,685.0,null,766.96,847.37,null,1124.0,559.61,null,1124.0,1046.2,null,1124.0,1170.4,null,1943.5,1738.0,null,1943.5,1818.4,null,221.0,232.28,null,221.0,339.52,null,847.37,882.39,null,847.37,685.0,null,339.52,232.28,null,829.54,748.03,null,829.54,700.68,null,559.61,1046.2,null,559.61,1170.4,null,685.0,746.26,null,47.0,108.26,null,47.0,108.26,null,882.39,685.0,null,1149.0,1210.3,null,1671.0,1732.3,null,1468.0,1529.3,null,1738.0,1627.9,null,1738.0,1818.4,null,259.15,306.98,null,1627.9,1818.4,null,1327.4,1207.0,null,1327.4,1268.1,null,1207.0,1268.1,null,292.16,221.0,null,700.68,748.03,null,1203.8,975.0,null,515.44,337.0,null,356.68,221.0,null,18.0,79.26,null],\"type\":\"scatter\"},{\"hoverinfo\":\"text\",\"hovertext\":[\"4.0\",\"1.3\",\"0.7\",\"1.0\",\"0.7\",\"0.9\",\"1.3\",\"1.3\",\"0.5\",\"0.6\",\"1.5\",\"0.6\",\"0.5\",\"4.0\",\"1.3\",\"2.7\",\"9.1\",\"1.2\",\"5.8\",\"0.9\",\"11.6\",\"1.2\",\"0.5\",\"2.6\",\"2.7\",\"3.8\",\"0.5\",\"4.2\",\"9.8\",\"9.2\",\"5.4\",\"0.7\",\"1.1\",\"0.8\",\"1.3\",\"0.5\",\"1.3\",\"4.4\",\"1.6\",\"0.9\",\"0.5\",\"1.3\",\"0.7\",\"4.0\",\"1.0\",\"1.1\",\"0.5\",\"1.2\",\"0.7\",\"4.0\",\"4.6\",\"4.0\",\"4.8\",\"0.8\",\"0.8\",\"9.1\",\"4.0\",\"4.6\",\"0.6\",\"3.9\",\"0.8\",\"2.3\",\"8.1\",\"3.3\",\"0.7\",\"0.5\",\"5.8\",\"2.7\",\"2.7\",\"6.4\",\"4.8\",\"1.1\",\"0.7\",\"6.5\",\"1.9\",\"11.4\",\"1.0\",\"1.4\",\"0.5\",\"0.7\",\"0.9\",\"1.0\",\"1.0\",\"0.8\",\"1.1\",\"8.3\",\"4.4\",\"1.9\",\"1.5\",\"4.6\",\"6.1\",\"4.0\",\"1.5\",\"4.4\",\"1.9\",\"5.3\",\"5.9\",\"0.7\",\"6.5\",\"1.9\",\"1.1\",\"11.0\",\"4.0\",\"5.8\",\"1.5\",\"1.0\",\"3.6\",\"0.6\",\"0.5\",\"1.2\",\"1.4\",\"1.3\",\"0.5\",\"1.5\",\"24.4\",\"0.7\",\"5.6\",\"2.3\",\"0.7\",\"0.7\",\"6.0\",\"0.8\",\"3.9\",\"4.0\",\"0.7\",\"0.7\",\"6.5\",\"0.9\",\"1.4\",\"0.7\",\"0.8\",\"1.8\",\"6.5\",\"1.8\",\"7.3\",\"4.6\",\"2.7\",\"6.5\",\"1.8\",\"1.2\",\"3.3\",\"5.7\",\"0.7\",\"1.1\",\"4.7\",\"0.6\",\"0.7\",\"0.5\",\"5.2\",\"0.6\",\"0.6\",\"5.7\",\"1.6\",\"5.8\",\"1.0\",\"6.0\",\"0.6\",\"1.0\",\"15.6\",\"1.5\",\"22.6\",\"0.9\",\"0.6\",\"2.6\",\"1.3\",\"7.4\",\"1.0\",\"0.5\",\"0.9\",\"1.6\",\"0.9\",\"5.9\",\"0.8\",\"3.2\",\"0.8\",\"5.9\",\"3.2\",\"0.9\",\"1.6\",\"2.4\",\"0.5\",\"1.0\",\"0.8\",\"9.4\",\"7.3\",\"0.5\",\"1.0\",\"1.6\",\"5.1\",\"0.6\",\"0.6\",\"1.7\",\"2.0\",\"0.7\",\"2.1\",\"2.4\",\"1.4\"],\"marker\":{\"color\":[0.005333756162234456,0.0063366007024912374,0.007392356114119955,0.0011963264470617053,0.007392356114119955,0.005076142131979695,0.0063366007024912374,0.0063366007024912374,0.005841256753532142,0.0042880007456193294,0.0072667248696835956,0.005368115720774016,0.005368115720774016,0.006168094410956339,0.0063366007024912374,0.00711429361756614,0.0023090554533673636,0.0014386646808051229,0.006550128473144079,0.005151392874420943,0.0018455534924999616,0.005076142131979695,0.005076142131979695,0.005076142131979695,0.005076142131979695,0.004703179960009999,0.005841256753532142,0.005773329920878254,0.003694441990321729,0.0017343394852418503,0.002276539624294715,0.004175875629148875,0.009714988392173688,0.0052507777739379796,0.005076142131979695,0.005841256753532142,0.0063366007024912374,0.005076142131979695,0.005031156903966324,0.003088684978179884,0.005841256753532142,0.005076142131979695,0.007392356114119955,0.006168094410956339,0.005841256753532142,0.005076142131979695,0.005076142131979695,0.005076142131979695,0.005474389921102055,0.006168094410956339,0.005398977838913796,0.006168094410956339,0.0073154311882968484,0.003908247776802412,0.005368115720774016,0.004770353489541607,0.006168094410956339,0.005446457201206185,0.004906565526270627,0.005076142131979695,0.0037791519644407023,0.002445698619023827,0.00422646959987352,0.005076142131979695,0.004175875629148875,0.005841256753532142,0.006550128473144079,0.00711429361756614,0.00711429361756614,0.005008481417353778,0.0053347369297513094,0.00632293434879475,0.0063785913368272764,0.005075784605009482,0.003183059601730223,0.005076142131979695,0.004771338984713416,0.003183059601730223,0.005841256753532142,0.005076142131979695,0.004543956339258066,0.005076142131979695,0.005076142131979695,0.006320628329112917,0.003843412102555406,0.0018609264940789272,0.0055760481642809015,0.003183059601730223,0.005534201515184536,0.00749312395888157,0.0024764578786082465,0.006168094410956339,0.005076142131979695,0.0074789910808821265,0.0052275999287547765,0.00456929557268493,0.004267245429755756,0.005076142131979695,0.005076142131979695,0.0033334415738357054,0.00632293434879475,0.005076142131979695,0.006168094410956339,0.00427493092666723,0.005076142131979695,0.005076142131979695,0.005608083342754288,0.005701274048867953,0.005841256753532142,0.005076142131979695,0.005076142131979695,0.0030323641992338873,0.005841256753532142,0.005031156903966324,0.005076142131979695,0.007392356114119955,0.005076142131979695,0.0029256713597332388,0.005590153247689585,0.005076142131979695,0.0042282911005440136,0.005152200205029354,0.004579839936158613,0.006168094410956339,0.005590153247689585,0.005076142131979695,0.005076142131979695,0.005076142131979695,0.005624824865839737,0.0038146560750881593,0.0053723927869125795,0.005076142131979695,0.00412570840985063,0.0025140579969016685,0.004573328192564207,0.005398977838913796,0.003465897761697077,0.005536357849342318,0.003468811060890376,0.003952870182535564,0.005076142131979695,0.005462768438056725,0.006378591336827277,0.006710944694794506,0.005406020561401929,0.005076142131979695,0.005076142131979695,0.005076142131979695,0.006498222547069121,0.005076142131979695,0.005076142131979695,0.005076142131979695,0.005076142131979695,0.0052908860339560175,0.005076142131979695,0.0064162869241083205,0.007395565262076693,0.005076142131979695,0.0043831728280158975,0.004466624951999772,0.005076142131979695,0.004543956339258066,0.005701274048867953,0.005374088154381351,0.005969266620944841,0.003034167532739711,0.005076142131979695,0.005841256753532142,0.005076142131979695,0.0037873275010190145,0.005076142131979695,0.002248481877915127,0.004890249883646443,0.005287079171433058,0.005943096751740763,0.006482739557367348,0.0052472777653073165,0.0040182050587742385,0.004570219940131298,0.005076142131979695,0.005076142131979695,0.004525778196758004,0.005152200205029354,0.004975031414047065,0.003017188468653066,0.005368115720774016,0.00410922113941401,0.002679552849164707,0.005076142131979695,0.005076142131979695,0.005076142131979695,0.005076142131979695,0.005076142131979695,0.005076142131979695,0.005076142131979695,0.005076142131979695,0.003873484258601634],\"colorbar\":{\"thickness\":15,\"title\":{\"text\":\"\\u8cfc\\u5165\\u56de\\u6570(10\\u4e07)\"}},\"colorscale\":[[0.0,\"rgb(12,51,131)\"],[0.25,\"rgb(10,136,186)\"],[0.5,\"rgb(242,211,56)\"],[0.75,\"rgb(242,143,56)\"],[1.0,\"rgb(217,30,30)\"]],\"line\":{\"width\":2},\"reversescale\":false,\"showscale\":true,\"size\":[4.0,1.3,0.7,1.0,0.7,0.9,1.3,1.3,0.5,0.6,1.5,0.6,0.5,4.0,1.3,2.7,9.1,1.2,5.8,0.9,11.6,1.2,0.5,2.6,2.7,3.8,0.5,4.2,9.8,9.2,5.4,0.7,1.1,0.8,1.3,0.5,1.3,4.4,1.6,0.9,0.5,1.3,0.7,4.0,1.0,1.1,0.5,1.2,0.7,4.0,4.6,4.0,4.8,0.8,0.8,9.1,4.0,4.6,0.6,3.9,0.8,2.3,8.1,3.3,0.7,0.5,5.8,2.7,2.7,6.4,4.8,1.1,0.7,6.5,1.9,11.4,1.0,1.4,0.5,0.7,0.9,1.0,1.0,0.8,1.1,8.3,4.4,1.9,1.5,4.6,6.1,4.0,1.5,4.4,1.9,5.3,5.9,0.7,6.5,1.9,1.1,11.0,4.0,5.8,1.5,1.0,3.6,0.6,0.5,1.2,1.4,1.3,0.5,1.5,24.4,0.7,5.6,2.3,0.7,0.7,6.0,0.8,3.9,4.0,0.7,0.7,6.5,0.9,1.4,0.7,0.8,1.8,6.5,1.8,7.3,4.6,2.7,6.5,1.8,1.2,3.3,5.7,0.7,1.1,4.7,0.6,0.7,0.5,5.2,0.6,0.6,5.7,1.6,5.8,1.0,6.0,0.6,1.0,15.6,1.5,22.6,0.9,0.6,2.6,1.3,7.4,1.0,0.5,0.9,1.6,0.9,5.9,0.8,3.2,0.8,5.9,3.2,0.9,1.6,2.4,0.5,1.0,0.8,9.4,7.3,0.5,1.0,1.6,5.1,0.6,0.6,1.7,2.0,0.7,2.1,2.4,1.4]},\"mode\":\"markers+text\",\"text\":[\"00\",\"06\",\"11000\",\"1200\",\"150\",\"19\",\"5091\",\"6131\",\"faq\",\"litera\",\"moca\",\"nasu\",\"nasucoltd\",\"ol\",\"tel\",\"uf\",\"w\",\"web\",\"wwww\",\"youtuber\",\"\\u21d2\",\"\\u2461\",\"\\u2462\",\"\\u26a0\",\"\\u3043\",\"\\u3044\\u307e\",\"\\u3047\\u3047\",\"\\u304a\\u8336\",\"\\u304b\\u308f\\u3044\\u305d\\u3046\",\"\\u3053\\u3053\",\"\\u3053\\u3061\\u3089\",\"\\u3055\\u304f\\u3089\",\"\\u3059\\u308c\\u9055\\u3044\",\"\\u3072\\u306a\",\"\\u307e\\u304d\",\"\\u307f\\u3053\",\"\\u30a2\\u30b9\\u30ab\",\"\\u30a4\\u30e4\",\"\\u30a4\\u30f3\\u30d5\\u30eb\",\"\\u30a8\\u30ea\\u30fc\\u30c8\",\"\\u30a8\\u30ed\\u30b2\\u30d7\\u30ec\\u30fc\\u30e4\\u30fc\",\"\\u30ab\\u30ea\\u30b9\\u30de\",\"\\u30ad\\u30ba\\u30ca\\u30b7\\u30c3\\u30bf\\u30fc\",\"\\u30ad\\u30e3\\u30d0\\u30af\\u30e9\",\"\\u30af\\u30b9\",\"\\u30af\\u30e9\",\"\\u30b9\\u30b4\",\"\\u30b9\\u30bf\\u30fc\",\"\\u30b9\\u30fc\\u30d1\\u30fc\\u30de\\u30fc\\u30b1\\u30c3\\u30c8\",\"\\u30bb\\u30af\\u30ad\\u30e3\\u30d0\",\"\\u30bc\\u30ed\",\"\\u30bd\\u30fc\\u30d7\",\"\\u30c1\\u30e3\\u30f3\\u30b9\",\"\\u30c7\\u30b6\\u30a4\\u30ca\\u30fc\",\"\\u30c7\\u30b6\\u30a4\\u30f3\",\"\\u30c7\\u30e1\\u30ea\\u30c3\\u30c8\",\"\\u30c7\\u30ea\\u30d8\\u30eb\",\"\\u30ce\\u30eb\\u30de\",\"\\u30d5\\u30a1\\u30f3\",\"\\u30d7\\u30ed\\u30d5\",\"\\u30d7\\u30fc\",\"\\u30d9\\u30d3\\u30fc\\u30b7\\u30c3\\u30bf\\u30fc\",\"\\u30db\\u30f3\\u30c8\",\"\\u30dc\\u30fc\\u30ca\\u30b9\",\"\\u30dd\\u30f3\\u30b3\\u30c4\",\"\\u30e1\\u30fc\\u30ab\\u30fc\",\"\\u30e4\\u30c4\",\"\\u30ec\\u30af\",\"\\u30ec\\u30af\\u30ea\\u30a8\\u30fc\\u30b7\\u30e7\\u30f3\",\"\\u4e00\\u756a\",\"\\u4e00\\u822c\",\"\\u4e00\\u90ce\",\"\\u4e0d\\u52d5\\u7523\",\"\\u4e0d\\u6e80\",\"\\u4e8b\\u696d\",\"\\u4ecb\\u8b77\",\"\\u4ee3\\u884c\",\"\\u4f11\\u6821\",\"\\u4f5c\\u52d5\",\"\\u4fc2\",\"\\u4fdd\\u6301\",\"\\u5024\",\"\\u504f\\u5dee\",\"\\u5165\\u4f1a\",\"\\u5185\\u95a3\",\"\\u51fa\\u52e4\",\"\\u526f\\u696d\",\"\\u52a9\\u6210\",\"\\u52b4\",\"\\u52dd\\u3061\",\"\\u52df\\u96c6\",\"\\u52e4\\u3081\",\"\\u533b\",\"\\u533f\\u540d\",\"\\u539a\",\"\\u53ce\\u5165\",\"\\u55b6\\u696d\",\"\\u56f0\\u618a\",\"\\u57fa\\u6e96\",\"\\u5831\\u544a\",\"\\u5897\\u5f37\",\"\\u58eb\",\"\\u58f2\\u308a\\u4e0a\\u3052\",\"\\u591a\\u304f\",\"\\u591c\\u52e4\",\"\\u5927\\u81e3\",\"\\u5927\\u962a\",\"\\u5931\\u589c\",\"\\u5a01\\u5687\",\"\\u5b66\\u7d1a\",\"\\u5c0f\\u5150\\u79d1\",\"\\u5c4a\",\"\\u5deb\\u5973\",\"\\u5e02\\u9577\",\"\\u5e2b\",\"\\u5e74\\u4f1a\",\"\\u5e74\\u53ce\",\"\\u5e9c\",\"\\u5f31\\u97f3\",\"\\u5f8c\\u85e4\",\"\\u5f93\\u4e8b\",\"\\u5f93\\u696d\",\"\\u5fc5\\u898b\",\"\\u6027\\u75c5\",\"\\u6226\\u4e89\",\"\\u6280\",\"\\u63a5\\u89e6\",\"\\u63db\\u6c17\",\"\\u652f\\u5e97\",\"\\u6551\\u6025\",\"\\u6559\\u79d1\\u66f8\",\"\\u65b0\\u5352\",\"\\u65b9\\u3005\",\"\\u65e5\\u5e38\",\"\\u65e9\\u3081\",\"\\u662f\\u975e\",\"\\u6642\\u7d66\",\"\\u6687\",\"\\u6700\\u5927\",\"\\u6700\\u7d42\",\"\\u671f\",\"\\u671f\\u9593\",\"\\u672c\\u793e\",\"\\u677e\\u4e95\",\"\\u691c\\u8a0e\",\"\\u6a2a\\u65ad\",\"\\u6a5f\\u95a2\",\"\\u6b20\",\"\\u6b32\\u6c42\",\"\\u6b69\\u9053\",\"\\u6c7a\\u88c1\",\"\\u6fc3\\u539a\",\"\\u708e\",\"\\u7121\\u6599\",\"\\u7279\\u5fb4\",\"\\u72d9\\u3044\",\"\\u75ab\\u5b66\",\"\\u75b2\\u52b4\",\"\\u767b\\u9332\",\"\\u7701\",\"\\u770b\\u8b77\",\"\\u7981\\u6b62\",\"\\u79d8\\u5bc6\",\"\\u7bb1\",\"\\u7dad\\u65b0\",\"\\u8077\",\"\\u80c3\\u8178\",\"\\u820c\\u3063\\u8db3\\u3089\\u305a\",\"\\u82e6\\u60a9\",\"\\u82e6\\u60c5\",\"\\u843d\\u3061\",\"\\u884c\\u4e8b\",\"\\u898f\\u5b9a\",\"\\u89aa\\u5b50\",\"\\u8a2d\\u5099\",\"\\u8a66\\u3057\",\"\\u8a71\\u984c\",\"\\u8abf\\u67fb\",\"\\u8ad6\",\"\\u8c46\",\"\\u8c4a\\u4e2d\",\"\\u8ca9\\u58f2\",\"\\u8caf\\u91d1\",\"\\u8cea\\u554f\",\"\\u9023\\u7d61\",\"\\u904a\\u3073\\u5fc3\",\"\\u90fd\",\"\\u914d\\u4fe1\",\"\\u914d\\u7f6e\",\"\\u9178\",\"\\u91d1\\u878d\",\"\\u9589\\u9396\",\"\\u9662\",\"\\u96d1\\u7528\",\"\\uff62\",\"\\uff63\",\"\\uff65\\uff65\\uff65\"],\"textposition\":\"top center\",\"x\":[1303.0,1402.5,611.67,1365.1,591.81,125.08,1479.7,1465.4,1136.6,1507.2,308.73,1034.5,1032.1,639.32,1549.2,449.44,114.0,1332.0,1500.6,247.2,1751.5,122.83,85.0,250.18,1042.9,319.25,1298.8,836.84,1478.2,444.52,567.49,1171.7,814.59,174.25,1514.8,1607.2,1358.9,122.83,1757.2,1551.6,1465.1,1005.1,706.21,743.52,1372.2,511.18,122.83,473.35,1544.2,872.18,1100.1,644.16,267.39,1147.5,1151.0,1234.4,706.11,1026.3,1072.0,212.35,1356.8,898.63,1545.3,1198.1,976.1,1228.3,1709.1,489.64,489.47,235.43,1032.6,1676.7,599.12,426.03,808.01,93.832,698.64,377.25,1483.3,270.08,233.67,415.08,377.25,753.86,397.29,348.25,931.17,964.17,185.09,356.73,203.25,820.05,975.18,275.57,172.0,1247.4,1009.4,647.08,966.08,725.25,1632.8,56.0,870.75,1185.8,1372.1,1662.1,1434.4,232.25,1300.3,1662.1,937.35,520.0,1591.5,1840.3,502.08,685.01,1160.2,1355.9,181.63,1624.2,1231.6,1558.5,344.82,723.27,252.13,85.0,96.08,67.08,1582.5,812.25,341.74,1334.2,1107.4,327.62,160.79,1029.0,1578.3,1655.1,891.25,671.43,85.0,440.9,629.54,1747.2,849.5,67.08,67.08,789.83,169.07,29.247,1691.1,58.247,1053.1,339.02,64.832,1580.2,864.63,609.25,1665.8,242.68,464.25,302.74,304.9,330.59,1624.3,595.22,1015.2,1122.1,29.247,827.77,1653.2,623.39,347.79,352.55,587.68,1628.1,415.31,935.12,1855.5,1477.0,87.247,1694.2,1679.7,346.06,500.09,1221.2,455.41,1533.2,928.25,752.0,29.247,1624.2,27.0,232.25,1108.8,1071.0,244.64],\"y\":[600.12,610.37,1396.9,221.0,1577.1,337.0,671.39,534.56,1379.3,825.6,1564.1,314.69,436.82,852.89,634.82,513.72,1108.9,928.3,1763.4,1639.4,1468.0,134.0,195.26,366.0,163.0,444.31,1330.5,1110.7,1886.7,1165.9,580.36,1670.5,432.84,1446.5,105.0,1426.9,505.47,1613.0,569.0,1655.4,1269.6,224.26,1554.9,764.54,1143.2,192.0,1323.0,253.26,235.53,658.49,1050.8,716.54,959.62,475.98,279.0,740.1,966.94,949.42,1563.8,427.26,1692.1,1236.0,1946.3,134.0,1350.8,1122.2,1810.8,399.02,463.35,693.64,796.72,785.03,289.33,744.8,1722.7,540.0,291.52,1392.2,1495.4,76.0,1228.8,76.0,137.26,1426.1,1554.6,590.64,1141.4,1496.7,540.0,951.72,225.62,962.05,1584.0,243.02,613.81,849.48,511.0,76.0,76.0,469.99,617.62,601.26,812.11,642.51,76.0,76.0,415.69,1303.5,1513.1,1004.0,1645.3,321.32,1276.2,639.97,1642.0,1283.9,195.26,751.15,1517.0,137.26,966.02,371.06,371.63,609.71,1509.5,1384.3,975.0,830.0,536.78,192.0,1655.7,137.26,568.55,1468.0,766.96,1124.0,440.19,1943.5,491.87,221.0,1674.3,847.37,339.52,829.54,559.61,685.0,47.0,47.0,882.39,746.26,1149.0,1036.3,1671.0,685.0,1468.0,1738.0,259.15,137.26,1627.9,588.0,1703.3,1327.4,1207.0,292.16,700.68,1170.4,1732.3,1203.8,891.26,337.0,1210.3,420.1,1268.1,515.44,232.28,1818.4,337.0,306.98,748.03,166.26,398.26,356.68,221.0,221.0,1046.2,379.04,1248.4,975.0,137.26,108.26,108.26,1065.3,1529.3,137.26,18.0,79.26,1439.0],\"type\":\"scatter\"}],                        {\"font\":{\"size\":10},\"hovermode\":\"closest\",\"margin\":{\"b\":10,\"l\":5,\"r\":5,\"t\":10},\"paper_bgcolor\":\"rgb(233,233,233)\",\"plot_bgcolor\":\"rgba(0,0,0,0)\",\"showlegend\":false,\"xaxis\":{\"showgrid\":false,\"showticklabels\":false,\"zeroline\":false},\"yaxis\":{\"showgrid\":false,\"showticklabels\":false,\"zeroline\":false},\"template\":{\"data\":{\"bar\":[{\"error_x\":{\"color\":\"#2a3f5f\"},\"error_y\":{\"color\":\"#2a3f5f\"},\"marker\":{\"line\":{\"color\":\"#E5ECF6\",\"width\":0.5},\"pattern\":{\"fillmode\":\"overlay\",\"size\":10,\"solidity\":0.2}},\"type\":\"bar\"}],\"barpolar\":[{\"marker\":{\"line\":{\"color\":\"#E5ECF6\",\"width\":0.5},\"pattern\":{\"fillmode\":\"overlay\",\"size\":10,\"solidity\":0.2}},\"type\":\"barpolar\"}],\"carpet\":[{\"aaxis\":{\"endlinecolor\":\"#2a3f5f\",\"gridcolor\":\"white\",\"linecolor\":\"white\",\"minorgridcolor\":\"white\",\"startlinecolor\":\"#2a3f5f\"},\"baxis\":{\"endlinecolor\":\"#2a3f5f\",\"gridcolor\":\"white\",\"linecolor\":\"white\",\"minorgridcolor\":\"white\",\"startlinecolor\":\"#2a3f5f\"},\"type\":\"carpet\"}],\"choropleth\":[{\"colorbar\":{\"outlinewidth\":0,\"ticks\":\"\"},\"type\":\"choropleth\"}],\"contour\":[{\"colorbar\":{\"outlinewidth\":0,\"ticks\":\"\"},\"colorscale\":[[0.0,\"#0d0887\"],[0.1111111111111111,\"#46039f\"],[0.2222222222222222,\"#7201a8\"],[0.3333333333333333,\"#9c179e\"],[0.4444444444444444,\"#bd3786\"],[0.5555555555555556,\"#d8576b\"],[0.6666666666666666,\"#ed7953\"],[0.7777777777777778,\"#fb9f3a\"],[0.8888888888888888,\"#fdca26\"],[1.0,\"#f0f921\"]],\"type\":\"contour\"}],\"contourcarpet\":[{\"colorbar\":{\"outlinewidth\":0,\"ticks\":\"\"},\"type\":\"contourcarpet\"}],\"heatmap\":[{\"colorbar\":{\"outlinewidth\":0,\"ticks\":\"\"},\"colorscale\":[[0.0,\"#0d0887\"],[0.1111111111111111,\"#46039f\"],[0.2222222222222222,\"#7201a8\"],[0.3333333333333333,\"#9c179e\"],[0.4444444444444444,\"#bd3786\"],[0.5555555555555556,\"#d8576b\"],[0.6666666666666666,\"#ed7953\"],[0.7777777777777778,\"#fb9f3a\"],[0.8888888888888888,\"#fdca26\"],[1.0,\"#f0f921\"]],\"type\":\"heatmap\"}],\"heatmapgl\":[{\"colorbar\":{\"outlinewidth\":0,\"ticks\":\"\"},\"colorscale\":[[0.0,\"#0d0887\"],[0.1111111111111111,\"#46039f\"],[0.2222222222222222,\"#7201a8\"],[0.3333333333333333,\"#9c179e\"],[0.4444444444444444,\"#bd3786\"],[0.5555555555555556,\"#d8576b\"],[0.6666666666666666,\"#ed7953\"],[0.7777777777777778,\"#fb9f3a\"],[0.8888888888888888,\"#fdca26\"],[1.0,\"#f0f921\"]],\"type\":\"heatmapgl\"}],\"histogram\":[{\"marker\":{\"pattern\":{\"fillmode\":\"overlay\",\"size\":10,\"solidity\":0.2}},\"type\":\"histogram\"}],\"histogram2d\":[{\"colorbar\":{\"outlinewidth\":0,\"ticks\":\"\"},\"colorscale\":[[0.0,\"#0d0887\"],[0.1111111111111111,\"#46039f\"],[0.2222222222222222,\"#7201a8\"],[0.3333333333333333,\"#9c179e\"],[0.4444444444444444,\"#bd3786\"],[0.5555555555555556,\"#d8576b\"],[0.6666666666666666,\"#ed7953\"],[0.7777777777777778,\"#fb9f3a\"],[0.8888888888888888,\"#fdca26\"],[1.0,\"#f0f921\"]],\"type\":\"histogram2d\"}],\"histogram2dcontour\":[{\"colorbar\":{\"outlinewidth\":0,\"ticks\":\"\"},\"colorscale\":[[0.0,\"#0d0887\"],[0.1111111111111111,\"#46039f\"],[0.2222222222222222,\"#7201a8\"],[0.3333333333333333,\"#9c179e\"],[0.4444444444444444,\"#bd3786\"],[0.5555555555555556,\"#d8576b\"],[0.6666666666666666,\"#ed7953\"],[0.7777777777777778,\"#fb9f3a\"],[0.8888888888888888,\"#fdca26\"],[1.0,\"#f0f921\"]],\"type\":\"histogram2dcontour\"}],\"mesh3d\":[{\"colorbar\":{\"outlinewidth\":0,\"ticks\":\"\"},\"type\":\"mesh3d\"}],\"parcoords\":[{\"line\":{\"colorbar\":{\"outlinewidth\":0,\"ticks\":\"\"}},\"type\":\"parcoords\"}],\"pie\":[{\"automargin\":true,\"type\":\"pie\"}],\"scatter\":[{\"marker\":{\"colorbar\":{\"outlinewidth\":0,\"ticks\":\"\"}},\"type\":\"scatter\"}],\"scatter3d\":[{\"line\":{\"colorbar\":{\"outlinewidth\":0,\"ticks\":\"\"}},\"marker\":{\"colorbar\":{\"outlinewidth\":0,\"ticks\":\"\"}},\"type\":\"scatter3d\"}],\"scattercarpet\":[{\"marker\":{\"colorbar\":{\"outlinewidth\":0,\"ticks\":\"\"}},\"type\":\"scattercarpet\"}],\"scattergeo\":[{\"marker\":{\"colorbar\":{\"outlinewidth\":0,\"ticks\":\"\"}},\"type\":\"scattergeo\"}],\"scattergl\":[{\"marker\":{\"colorbar\":{\"outlinewidth\":0,\"ticks\":\"\"}},\"type\":\"scattergl\"}],\"scattermapbox\":[{\"marker\":{\"colorbar\":{\"outlinewidth\":0,\"ticks\":\"\"}},\"type\":\"scattermapbox\"}],\"scatterpolar\":[{\"marker\":{\"colorbar\":{\"outlinewidth\":0,\"ticks\":\"\"}},\"type\":\"scatterpolar\"}],\"scatterpolargl\":[{\"marker\":{\"colorbar\":{\"outlinewidth\":0,\"ticks\":\"\"}},\"type\":\"scatterpolargl\"}],\"scatterternary\":[{\"marker\":{\"colorbar\":{\"outlinewidth\":0,\"ticks\":\"\"}},\"type\":\"scatterternary\"}],\"surface\":[{\"colorbar\":{\"outlinewidth\":0,\"ticks\":\"\"},\"colorscale\":[[0.0,\"#0d0887\"],[0.1111111111111111,\"#46039f\"],[0.2222222222222222,\"#7201a8\"],[0.3333333333333333,\"#9c179e\"],[0.4444444444444444,\"#bd3786\"],[0.5555555555555556,\"#d8576b\"],[0.6666666666666666,\"#ed7953\"],[0.7777777777777778,\"#fb9f3a\"],[0.8888888888888888,\"#fdca26\"],[1.0,\"#f0f921\"]],\"type\":\"surface\"}],\"table\":[{\"cells\":{\"fill\":{\"color\":\"#EBF0F8\"},\"line\":{\"color\":\"white\"}},\"header\":{\"fill\":{\"color\":\"#C8D4E3\"},\"line\":{\"color\":\"white\"}},\"type\":\"table\"}]},\"layout\":{\"annotationdefaults\":{\"arrowcolor\":\"#2a3f5f\",\"arrowhead\":0,\"arrowwidth\":1},\"autotypenumbers\":\"strict\",\"coloraxis\":{\"colorbar\":{\"outlinewidth\":0,\"ticks\":\"\"}},\"colorscale\":{\"diverging\":[[0,\"#8e0152\"],[0.1,\"#c51b7d\"],[0.2,\"#de77ae\"],[0.3,\"#f1b6da\"],[0.4,\"#fde0ef\"],[0.5,\"#f7f7f7\"],[0.6,\"#e6f5d0\"],[0.7,\"#b8e186\"],[0.8,\"#7fbc41\"],[0.9,\"#4d9221\"],[1,\"#276419\"]],\"sequential\":[[0.0,\"#0d0887\"],[0.1111111111111111,\"#46039f\"],[0.2222222222222222,\"#7201a8\"],[0.3333333333333333,\"#9c179e\"],[0.4444444444444444,\"#bd3786\"],[0.5555555555555556,\"#d8576b\"],[0.6666666666666666,\"#ed7953\"],[0.7777777777777778,\"#fb9f3a\"],[0.8888888888888888,\"#fdca26\"],[1.0,\"#f0f921\"]],\"sequentialminus\":[[0.0,\"#0d0887\"],[0.1111111111111111,\"#46039f\"],[0.2222222222222222,\"#7201a8\"],[0.3333333333333333,\"#9c179e\"],[0.4444444444444444,\"#bd3786\"],[0.5555555555555556,\"#d8576b\"],[0.6666666666666666,\"#ed7953\"],[0.7777777777777778,\"#fb9f3a\"],[0.8888888888888888,\"#fdca26\"],[1.0,\"#f0f921\"]]},\"colorway\":[\"#636efa\",\"#EF553B\",\"#00cc96\",\"#ab63fa\",\"#FFA15A\",\"#19d3f3\",\"#FF6692\",\"#B6E880\",\"#FF97FF\",\"#FECB52\"],\"font\":{\"color\":\"#2a3f5f\"},\"geo\":{\"bgcolor\":\"white\",\"lakecolor\":\"white\",\"landcolor\":\"#E5ECF6\",\"showlakes\":true,\"showland\":true,\"subunitcolor\":\"white\"},\"hoverlabel\":{\"align\":\"left\"},\"hovermode\":\"closest\",\"mapbox\":{\"style\":\"light\"},\"paper_bgcolor\":\"white\",\"plot_bgcolor\":\"#E5ECF6\",\"polar\":{\"angularaxis\":{\"gridcolor\":\"white\",\"linecolor\":\"white\",\"ticks\":\"\"},\"bgcolor\":\"#E5ECF6\",\"radialaxis\":{\"gridcolor\":\"white\",\"linecolor\":\"white\",\"ticks\":\"\"}},\"scene\":{\"xaxis\":{\"backgroundcolor\":\"#E5ECF6\",\"gridcolor\":\"white\",\"gridwidth\":2,\"linecolor\":\"white\",\"showbackground\":true,\"ticks\":\"\",\"zerolinecolor\":\"white\"},\"yaxis\":{\"backgroundcolor\":\"#E5ECF6\",\"gridcolor\":\"white\",\"gridwidth\":2,\"linecolor\":\"white\",\"showbackground\":true,\"ticks\":\"\",\"zerolinecolor\":\"white\"},\"zaxis\":{\"backgroundcolor\":\"#E5ECF6\",\"gridcolor\":\"white\",\"gridwidth\":2,\"linecolor\":\"white\",\"showbackground\":true,\"ticks\":\"\",\"zerolinecolor\":\"white\"}},\"shapedefaults\":{\"line\":{\"color\":\"#2a3f5f\"}},\"ternary\":{\"aaxis\":{\"gridcolor\":\"white\",\"linecolor\":\"white\",\"ticks\":\"\"},\"baxis\":{\"gridcolor\":\"white\",\"linecolor\":\"white\",\"ticks\":\"\"},\"bgcolor\":\"#E5ECF6\",\"caxis\":{\"gridcolor\":\"white\",\"linecolor\":\"white\",\"ticks\":\"\"}},\"title\":{\"x\":0.05},\"xaxis\":{\"automargin\":true,\"gridcolor\":\"white\",\"linecolor\":\"white\",\"ticks\":\"\",\"title\":{\"standoff\":15},\"zerolinecolor\":\"white\",\"zerolinewidth\":2},\"yaxis\":{\"automargin\":true,\"gridcolor\":\"white\",\"linecolor\":\"white\",\"ticks\":\"\",\"title\":{\"standoff\":15},\"zerolinecolor\":\"white\",\"zerolinewidth\":2}}}},                        {\"responsive\": true}                    ).then(function(){\n",
              "                            \n",
              "var gd = document.getElementById('43d32284-8afb-4906-bd79-1c402c947c85');\n",
              "var x = new MutationObserver(function (mutations, observer) {{\n",
              "        var display = window.getComputedStyle(gd).display;\n",
              "        if (!display || display === 'none') {{\n",
              "            console.log([gd, 'removed!']);\n",
              "            Plotly.purge(gd);\n",
              "            observer.disconnect();\n",
              "        }}\n",
              "}});\n",
              "\n",
              "// Listen for the removal of the full notebook cells\n",
              "var notebookContainer = gd.closest('#notebook-container');\n",
              "if (notebookContainer) {{\n",
              "    x.observe(notebookContainer, {childList: true});\n",
              "}}\n",
              "\n",
              "// Listen for the clearing of the current output cell\n",
              "var outputEl = gd.closest('.output');\n",
              "if (outputEl) {{\n",
              "    x.observe(outputEl, {childList: true});\n",
              "}}\n",
              "\n",
              "                        })                };                            </script>        </div>\n",
              "</body>\n",
              "</html>"
            ]
          },
          "metadata": {}
        }
      ]
    }
  ]
}